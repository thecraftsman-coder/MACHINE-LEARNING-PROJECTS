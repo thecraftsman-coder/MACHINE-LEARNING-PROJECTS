{
 "cells": [
  {
   "cell_type": "markdown",
   "id": "75b053df-1351-4b95-8363-6be43da3212d",
   "metadata": {},
   "source": [
    "## NASA API "
   ]
  },
  {
   "cell_type": "markdown",
   "id": "41a5aa9c-d102-4d98-8485-0fedfa608cc2",
   "metadata": {},
   "source": [
    "Here, We are going to practice consuming public APIs through the NASA public APIs portal.\n",
    "\n",
    "Portal description : The objective of this portal is to make NASA data, including imagery, eminently accessible to application developers and data professionals. Before starting to use its APIs endpoints, it's mandatory that you generate your API KEY and store it somewhere for later use. The API key acts as the user identifier when requesting the API. To get your KEY, fill in the provided form with your personal information, and then we shall receive an email containing your personal API KEY.\n",
    "\n",
    "➡️ NASA API PORTAL\n",
    "\n",
    "https://i.imgur.com/hisTmpk.png\n",
    "\n",
    " \n",
    "\n",
    "\n",
    "**Instructions**\n",
    "\n",
    "1. Go to the NASA API portal and generate your API KEY\n",
    "2. Import the requests package and store your API KEY in variable\n",
    "3. Go back to portal website and click on 'browse APIs'\n",
    "4. Click on the first dropdown menu, named 'APOD' and read its documentation\n",
    "5. Follow the provided documentation to ask the API endpoint for the astronomy picture of the day. Get then display the image on your notebook.\n",
    "6. Go through the list of the provided API endpoints once again and select 'Astronomy Picture of the Day' option. Store the results in a pandas dataframe\n",
    "7. Do the necessary data pre-processing tasks on the previous result in order to get a clean dataframe with the following columns :\n",
    "- Asteroid ID\n",
    "- Asteroid name\n",
    "- The Minimal estimated diameter in Kilometre\n",
    "- Absolute_magnitude\n",
    "- Relative_velocity(km/s)\n"
   ]
  },
  {
   "cell_type": "code",
   "execution_count": null,
   "id": "2039b134-a757-44db-84ae-1f8ddb70ef2c",
   "metadata": {},
   "outputs": [],
   "source": [
    "import requests\n",
    "import pandas as pd\n",
    "from PIL import Image\n",
    "from io import BytesIO\n",
    "import matplotlib.pyplot as plt"
   ]
  },
  {
   "cell_type": "code",
   "execution_count": null,
   "id": "07e16102-21ff-4c86-89e4-c840415799c2",
   "metadata": {},
   "outputs": [],
   "source": [
    "# The base URL of the API endpoint\n",
    "url = \"https://api.nasa.gov/planetary/apod\""
   ]
  },
  {
   "cell_type": "code",
   "execution_count": null,
   "id": "7cd0af52-4483-41d9-8b7b-ceb8746b732a",
   "metadata": {},
   "outputs": [],
   "source": [
    "# Your API key\n",
    "api_key = \"\""
   ]
  },
  {
   "cell_type": "code",
   "execution_count": null,
   "id": "73ecfdca-0183-4576-87eb-6e8d7cf2370d",
   "metadata": {},
   "outputs": [],
   "source": [
    "# Parameters for the API request, including the API key\n",
    "params = {\n",
    "    'api_key': api_key\n",
    "}"
   ]
  },
  {
   "cell_type": "code",
   "execution_count": null,
   "id": "8815c68d-e902-449f-a846-4030f83d7d99",
   "metadata": {},
   "outputs": [],
   "source": [
    "# Send a GET request to the API\n",
    "response = requests.get(url, params=params)\n",
    "\n",
    "# Check if the request was successful\n",
    "response.status_code == 200"
   ]
  },
  {
   "cell_type": "code",
   "execution_count": null,
   "id": "2e09bb1d-101a-4e34-ba46-ec7720c8cc6f",
   "metadata": {},
   "outputs": [],
   "source": [
    "# Display the weather data as JSON\n",
    "response.json()"
   ]
  },
  {
   "cell_type": "code",
   "execution_count": null,
   "id": "1e49254e-c00e-418b-abdc-4e3b66ca0afb",
   "metadata": {},
   "outputs": [],
   "source": [
    "data = response.json()"
   ]
  },
  {
   "cell_type": "code",
   "execution_count": null,
   "id": "39c8fb54-5754-4a94-a7a3-736eb37ad73e",
   "metadata": {},
   "outputs": [],
   "source": [
    "# Get the image URL\n",
    "image_url = data['url']"
   ]
  },
  {
   "cell_type": "code",
   "execution_count": null,
   "id": "f8fee383-d602-41d2-b2b8-ccb5921fd7c8",
   "metadata": {},
   "outputs": [],
   "source": [
    "# Request the image\n",
    "img_response = requests.get(image_url)"
   ]
  },
  {
   "cell_type": "code",
   "execution_count": null,
   "id": "ab645e75-4256-4d89-a2ad-e2d8d8c03792",
   "metadata": {},
   "outputs": [],
   "source": [
    "# Open the image and display it using matplotlib\n",
    "img = Image.open(BytesIO(img_response.content))\n",
    "plt.imshow(img)\n",
    "plt.axis('off')\n",
    "plt.show()\n",
    "# Display the image and some info\n",
    "print(\"Title:\", data['title'])\n",
    "print(\"Date:\", data['date'])\n",
    "print(\"Explanation:\", data['explanation'])"
   ]
  },
  {
   "cell_type": "code",
   "execution_count": null,
   "id": "32d4ffb3-7de6-4a64-a9c1-88bdfd60acf0",
   "metadata": {},
   "outputs": [],
   "source": [
    "neo_url = \"https://api.nasa.gov/neo/rest/v1/feed\""
   ]
  },
  {
   "cell_type": "code",
   "execution_count": null,
   "id": "78382135-3dcd-4eb6-b994-f8b946b6175f",
   "metadata": {},
   "outputs": [],
   "source": [
    "# Parameters for the API request (retrieves asteroids for a range of dates)\n",
    "neo_params = {\n",
    "    'start_date': '2023-10-01',  # Specify the date range you want\n",
    "    'end_date': '2023-10-02',\n",
    "    'api_key': api_key\n",
    "}"
   ]
  },
  {
   "cell_type": "code",
   "execution_count": null,
   "id": "1f918e05-3542-4289-ad53-a2ddfec011b6",
   "metadata": {},
   "outputs": [],
   "source": [
    "# Send a GET request to the NeoWs API\n",
    "neo_response = requests.get(neo_url, params=neo_params)"
   ]
  },
  {
   "cell_type": "code",
   "execution_count": null,
   "id": "8d2b6a8d-ade4-4d97-b340-c001f87de7b2",
   "metadata": {},
   "outputs": [],
   "source": [
    "# Check if the request was successful\n",
    "if neo_response.status_code == 200:\n",
    "    neo_data = neo_response.json()\n",
    "    \n",
    "    # Extract the asteroid data from the response\n",
    "    asteroids = []\n",
    "    for date, neo_objects in neo_data['near_earth_objects'].items():\n",
    "        for obj in neo_objects:\n",
    "            asteroid = {\n",
    "                'Asteroid ID': obj['id'],\n",
    "                'Asteroid Name': obj['name'],\n",
    "                'Minimal Estimated Diameter (km)': obj['estimated_diameter']['kilometers']['estimated_diameter_min'],\n",
    "                'Absolute Magnitude': obj['absolute_magnitude_h'],\n",
    "                'Relative Velocity (km/s)': obj['close_approach_data'][0]['relative_velocity']['kilometers_per_second']\n",
    "            }\n",
    "            asteroids.append(asteroid)\n",
    "    \n",
    "    # Create a pandas DataFrame from the extracted data\n",
    "    df = pd.DataFrame(asteroids)\n",
    "    \n",
    "    # Display the DataFrame\n",
    "    df\n",
    "    \n",
    "else:\n",
    "    print(f\"Error: {neo_response.status_code}\")"
   ]
  },
  {
   "cell_type": "code",
   "execution_count": null,
   "id": "ea6e1f3b-caaa-4845-830c-8d2f9ba504bc",
   "metadata": {},
   "outputs": [],
   "source": [
    "df.head()"
   ]
  },
  {
   "cell_type": "code",
   "execution_count": null,
   "id": "d9919b43-d187-4c97-afd5-dcf56419d0b6",
   "metadata": {},
   "outputs": [],
   "source": []
  },
  {
   "cell_type": "code",
   "execution_count": null,
   "id": "dce9eca0-c7f9-4e50-a2ac-d8453d7288e8",
   "metadata": {},
   "outputs": [],
   "source": []
  },
  {
   "cell_type": "code",
   "execution_count": null,
   "id": "282d79ca-00e3-4a86-b9bf-f589e9b8b39a",
   "metadata": {},
   "outputs": [],
   "source": []
  },
  {
   "cell_type": "code",
   "execution_count": null,
   "id": "cbfeecf9-0244-4cc7-887d-e8bc1c347cf0",
   "metadata": {},
   "outputs": [],
   "source": []
  },
  {
   "cell_type": "code",
   "execution_count": null,
   "id": "19e05341-f114-45c8-b217-130e1fb54655",
   "metadata": {},
   "outputs": [],
   "source": []
  }
 ],
 "metadata": {
  "kernelspec": {
   "display_name": "Python 3 (ipykernel)",
   "language": "python",
   "name": "python3"
  },
  "language_info": {
   "codemirror_mode": {
    "name": "ipython",
    "version": 3
   },
   "file_extension": ".py",
   "mimetype": "text/x-python",
   "name": "python",
   "nbconvert_exporter": "python",
   "pygments_lexer": "ipython3",
   "version": "3.10.9"
  }
 },
 "nbformat": 4,
 "nbformat_minor": 5
}
