{
 "cells": [
  {
   "cell_type": "markdown",
   "id": "3ab945c7-1ab6-466e-86e5-50ec6a7baad4",
   "metadata": {},
   "source": [
    "# Electric Vehicle Prediction"
   ]
  },
  {
   "cell_type": "markdown",
   "id": "3d99c683-cfd9-4220-a63e-41eace3ded6a",
   "metadata": {},
   "source": [
    "In this checkpoint, I am going to work on the **'Electric Vehicle Data'** dataset that was provided by Kaggle as part of the Electric Vehicle Price Prediction competition.\n",
    "\n",
    "Dataset description: This dataset contains information on the Battery Electric Vehicles (BEVs) and Plug-in Hybrid Electric Vehicles (PHEVs) that are currently registered with the Washington State Department of Licensing (DOL). This dataset was introduced as part of an official invitation-based competition on Kaggle. Our SVM model should answer the question \"This is my car's model & make, along with a few other parameters, what price can this vehicle be brought or sold?”\n",
    "\n",
    "➡️ Dataset link\n",
    "\n",
    "https://i.imgur.com/IpuCW3s.jpg\n",
    " "
   ]
  },
  {
   "cell_type": "markdown",
   "id": "8d445b82-d89b-4729-adfc-4ccecc56cde5",
   "metadata": {},
   "source": [
    "Instructions\n",
    "\n",
    "1. Import you data and perform basic data exploration phase\n",
    "- Display general information about the dataset\n",
    "- Create a pandas profiling reports to gain insights into the dataset\n",
    "- Handle Missing and corrupted values\n",
    "- Remove duplicates, if they exist\n",
    "- Handle outliers, if they exist\n",
    "- Encode categorical features\n",
    "  \n",
    "2. Select your target variable and the features\n",
    "3. Split your dataset to training and test sets\n",
    "4. Build and train an SVM model on the training set\n",
    "5. Assess your model performance on the test set using relevant evaluation metrics\n",
    "6. Discuss with your cohort alternative ways to improve your model performance"
   ]
  },
  {
   "cell_type": "code",
   "execution_count": null,
   "id": "7d014892-a42b-4fe5-b6c0-c0c8acea5e5a",
   "metadata": {
    "slideshow": {
     "slide_type": ""
    },
    "tags": []
   },
   "outputs": [],
   "source": [
    "# Suppress warnings for cleaner output\n",
    "import warnings\n",
    "warnings.filterwarnings('ignore')"
   ]
  },
  {
   "cell_type": "code",
   "execution_count": null,
   "id": "9e5313c5-3af9-448e-8232-ec50e4b3a61d",
   "metadata": {},
   "outputs": [],
   "source": [
    "import pandas as pd\n",
    "import numpy as np\n",
    "import seaborn as sns\n",
    "import matplotlib.pyplot as plt\n",
    "\n",
    "from sklearn.model_selection import train_test_split\n",
    "from sklearn.preprocessing import LabelEncoder\n",
    "from sklearn.preprocessing import StandardScaler\n",
    "from sklearn.svm import SVR \n",
    "from sklearn.metrics import mean_squared_error, r2_score"
   ]
  },
  {
   "cell_type": "code",
   "execution_count": null,
   "id": "c9472fb1-fed7-4ba2-916a-d0033842e329",
   "metadata": {},
   "outputs": [],
   "source": [
    "#loading the dataset\n",
    "df = pd.read_csv(\"train.csv\")"
   ]
  },
  {
   "cell_type": "markdown",
   "id": "f85ea68c-3237-47e9-85c5-2b8da0e532ae",
   "metadata": {},
   "source": [
    "#### Overview of the dataset"
   ]
  },
  {
   "cell_type": "code",
   "execution_count": null,
   "id": "b5f9d0b3-dde1-462b-b2fd-43c35c8bb545",
   "metadata": {},
   "outputs": [],
   "source": [
    "df.head()"
   ]
  },
  {
   "cell_type": "code",
   "execution_count": null,
   "id": "24a0928c-608c-4d13-b3a7-8eb2a4e23684",
   "metadata": {},
   "outputs": [],
   "source": [
    "df.shape"
   ]
  },
  {
   "cell_type": "code",
   "execution_count": null,
   "id": "10c653e2-1dff-4d55-b0a1-2bc7fa6bd99f",
   "metadata": {
    "scrolled": true
   },
   "outputs": [],
   "source": [
    "df.info()"
   ]
  },
  {
   "cell_type": "code",
   "execution_count": null,
   "id": "32c3486c-e486-4e50-a35d-e612ae7dd47d",
   "metadata": {},
   "outputs": [],
   "source": [
    "df.describe()"
   ]
  },
  {
   "cell_type": "code",
   "execution_count": null,
   "id": "55210fc8-523b-46e0-94a3-8ddb61df50a3",
   "metadata": {
    "scrolled": true
   },
   "outputs": [],
   "source": [
    "df[\"Expected Price ($1k)\"].unique()"
   ]
  },
  {
   "cell_type": "code",
   "execution_count": null,
   "id": "00c5789e-cade-45d1-b17c-fa6db12af5b0",
   "metadata": {},
   "outputs": [],
   "source": [
    "# Replace 'N/' with NaN \n",
    "df[\"Expected Price ($1k)\"] = df[\"Expected Price ($1k)\"].replace(['N/', 'NA', ''], np.nan)\n",
    "df[\"Expected Price ($1k)\"] = pd.to_numeric(df[\"Expected Price ($1k)\"], errors='coerce')\n",
    "    "
   ]
  },
  {
   "cell_type": "markdown",
   "id": "a9bd328d-5d77-42b4-8de5-df67269b2ca4",
   "metadata": {},
   "source": [
    "#### Checking for missing values and duplicates"
   ]
  },
  {
   "cell_type": "code",
   "execution_count": null,
   "id": "51d7f013-d1af-44f1-94a9-f6ba6bfefca1",
   "metadata": {},
   "outputs": [],
   "source": [
    "df.isnull().sum()"
   ]
  },
  {
   "cell_type": "code",
   "execution_count": null,
   "id": "6a2d091b-bd3e-4ab8-8376-38530451c212",
   "metadata": {
    "scrolled": true
   },
   "outputs": [],
   "source": [
    "df[df[\"Expected Price ($1k)\"].isnull()]"
   ]
  },
  {
   "cell_type": "markdown",
   "id": "8a88cbb6-2ba0-40c0-a81b-c5e712732840",
   "metadata": {},
   "source": [
    "We can see here that the prices for Vehicles with Make of **FORD** are missing"
   ]
  },
  {
   "cell_type": "code",
   "execution_count": null,
   "id": "b86ddf22-5329-4069-85eb-7db624fae43d",
   "metadata": {},
   "outputs": [],
   "source": [
    "df.dropna(subset=[\"Expected Price ($1k)\"], inplace=True)"
   ]
  },
  {
   "cell_type": "code",
   "execution_count": null,
   "id": "f49aee74-46e1-49fe-90e2-0d140a7f3e05",
   "metadata": {},
   "outputs": [],
   "source": [
    "df = df.dropna()"
   ]
  },
  {
   "cell_type": "code",
   "execution_count": null,
   "id": "fadc6957-9556-4b71-ad74-c9ddb4134a86",
   "metadata": {
    "scrolled": true
   },
   "outputs": [],
   "source": [
    "df.isnull().sum()"
   ]
  },
  {
   "cell_type": "code",
   "execution_count": null,
   "id": "4c4a922f-2895-4ea8-a222-d5ea7d0b6cb3",
   "metadata": {},
   "outputs": [],
   "source": [
    "df.duplicated().sum()"
   ]
  },
  {
   "cell_type": "markdown",
   "id": "00b4ce93-2bbf-48ae-8eec-2f4dff343603",
   "metadata": {},
   "source": [
    "There are no duplicates in this dataset"
   ]
  },
  {
   "cell_type": "code",
   "execution_count": null,
   "id": "de78144f-a384-48ca-8355-823dba16df19",
   "metadata": {},
   "outputs": [],
   "source": [
    "df.shape"
   ]
  },
  {
   "cell_type": "code",
   "execution_count": null,
   "id": "4938be8e-16da-4126-a588-84dff3e06717",
   "metadata": {
    "scrolled": true
   },
   "outputs": [],
   "source": [
    "df[\"Make\"].value_counts()"
   ]
  },
  {
   "cell_type": "code",
   "execution_count": null,
   "id": "7da238c5-216a-4b2a-852e-7bedbabb58a5",
   "metadata": {},
   "outputs": [],
   "source": [
    "df[\"Model\"].value_counts()"
   ]
  },
  {
   "cell_type": "code",
   "execution_count": null,
   "id": "fd0eade7-3163-4bc4-9189-a367b9aa4dff",
   "metadata": {
    "scrolled": true
   },
   "outputs": [],
   "source": [
    "df[\"Make\"].unique()"
   ]
  },
  {
   "cell_type": "code",
   "execution_count": null,
   "id": "bcf4f21d-7414-4fd4-bd31-2ee5f7d51411",
   "metadata": {},
   "outputs": [],
   "source": [
    "df[\"Model\"].unique()"
   ]
  },
  {
   "cell_type": "markdown",
   "id": "f9f068f9-b362-4c08-9864-b79fd621d961",
   "metadata": {},
   "source": [
    "##### Let's see the distribution of prices across the model and make"
   ]
  },
  {
   "cell_type": "code",
   "execution_count": null,
   "id": "da195193-940e-422e-a534-dce84d083f1f",
   "metadata": {},
   "outputs": [],
   "source": [
    "plt.figure(figsize=(18, 5))\n",
    "sns.boxplot(x='Make', y='Expected Price ($1k)', data=df)\n",
    "plt.title('Price Distribution Across Makes')\n",
    "plt.xticks(rotation=45)  \n",
    "plt.show()\n"
   ]
  },
  {
   "cell_type": "markdown",
   "id": "e061de59-254a-42d0-b88a-b8b9dfc60bc2",
   "metadata": {},
   "source": [
    "#### Feature Engineering"
   ]
  },
  {
   "cell_type": "markdown",
   "id": "7f831291-e789-4287-a9e0-2c7743f635d8",
   "metadata": {},
   "source": [
    "##### Using Electric Range as a Proxy for Mileage"
   ]
  },
  {
   "cell_type": "code",
   "execution_count": null,
   "id": "3a364f89-6f93-4fb4-bfe8-e880818b7c1f",
   "metadata": {},
   "outputs": [],
   "source": [
    "df['Price per Mile'] = df['Expected Price ($1k)'] / df['Electric Range']"
   ]
  },
  {
   "cell_type": "markdown",
   "id": "b1af093a-c443-402e-bc4f-bade719e11e1",
   "metadata": {},
   "source": [
    "##### Changing the datatype of model year"
   ]
  },
  {
   "cell_type": "code",
   "execution_count": null,
   "id": "1d0068f5-d7ef-45dd-9333-65443fa526f9",
   "metadata": {},
   "outputs": [],
   "source": [
    "df[\"Model Year\"] = df[\"Model Year\"].astype(int)"
   ]
  },
  {
   "cell_type": "markdown",
   "id": "40f0e98b-f217-4e58-babb-a34105589dcf",
   "metadata": {},
   "source": [
    "##### Age of the vehicle"
   ]
  },
  {
   "cell_type": "code",
   "execution_count": null,
   "id": "8b27d197-cf07-4dc7-8725-f2d4e7aa9801",
   "metadata": {},
   "outputs": [],
   "source": [
    "current_year = 2024\n",
    "df['Age of Vehicle'] = current_year - df['Model Year']"
   ]
  },
  {
   "cell_type": "markdown",
   "id": "873c3a5a-7e0c-4fa7-ad28-dd19da868bd4",
   "metadata": {},
   "source": [
    "#### Encoding categorical features"
   ]
  },
  {
   "cell_type": "markdown",
   "id": "36554d0c-aef2-4011-8ab8-f9e714b70192",
   "metadata": {},
   "source": [
    "##### Label Encoding method assigns a unique integer to each category. "
   ]
  },
  {
   "cell_type": "code",
   "execution_count": null,
   "id": "4e0e0647-6c13-46ad-8f91-705f925ab62c",
   "metadata": {},
   "outputs": [],
   "source": [
    "df[\"Clean Alternative Fuel Vehicle (CAFV) Eligibility\"].value_counts()"
   ]
  },
  {
   "cell_type": "code",
   "execution_count": null,
   "id": "1c7de6d5-e269-407e-94f8-326c15ed9c72",
   "metadata": {},
   "outputs": [],
   "source": [
    "label_encoder = LabelEncoder()\n",
    "df['(CAFV)_Eligibility_encoded'] = label_encoder.fit_transform(df['Clean Alternative Fuel Vehicle (CAFV) Eligibility'])"
   ]
  },
  {
   "cell_type": "code",
   "execution_count": null,
   "id": "9e848c21-634f-48c1-bb0b-fd7dc32386f8",
   "metadata": {
    "scrolled": true
   },
   "outputs": [],
   "source": [
    "df[\"Electric Vehicle Type\"].value_counts()"
   ]
  },
  {
   "cell_type": "code",
   "execution_count": null,
   "id": "3ae2fddf-8532-412b-9b6d-9b13954ae3ba",
   "metadata": {},
   "outputs": [],
   "source": [
    "label_encoder = LabelEncoder()\n",
    "df['EV_Type_encoded'] = label_encoder.fit_transform(df['Electric Vehicle Type'])"
   ]
  },
  {
   "cell_type": "markdown",
   "id": "70de829a-ec72-42ca-902e-fcd1ed8de417",
   "metadata": {},
   "source": [
    "##### Target Encoding will be suitable for **Model** and **Make** features since there is a large number of categories and label or one-hot encoding would result in high dimensionality."
   ]
  },
  {
   "cell_type": "code",
   "execution_count": null,
   "id": "899714e9-eb35-402c-b441-ffc105eab68c",
   "metadata": {},
   "outputs": [],
   "source": [
    "df['Model_encoded'] = df.groupby('Model')['Expected Price ($1k)'].transform('mean')"
   ]
  },
  {
   "cell_type": "code",
   "execution_count": null,
   "id": "efd6dcf3-b165-476c-961b-66d9963ddf3c",
   "metadata": {},
   "outputs": [],
   "source": [
    "df['Make_encoded'] = df.groupby('Make')['Expected Price ($1k)'].transform('mean')"
   ]
  },
  {
   "cell_type": "markdown",
   "id": "27929f0f-7c06-4865-be94-62d7fbaa80a3",
   "metadata": {},
   "source": [
    "### Combining the data wrangling steps into one function for a test CSV file. "
   ]
  },
  {
   "cell_type": "code",
   "execution_count": null,
   "id": "31d191a5-be5a-459c-ac0e-a8ffaddd52dd",
   "metadata": {},
   "outputs": [],
   "source": [
    "def wrangle(file_path):\n",
    "    # Load the dataset\n",
    "    df = pd.read_csv(file_path)\n",
    "    \n",
    "    # Clean and convert 'Expected Price ($1k)' to numeric\n",
    "    df[\"Expected Price ($1k)\"] = df[\"Expected Price ($1k)\"].replace(['N/', 'NA', ''], np.nan)\n",
    "    df[\"Expected Price ($1k)\"] = pd.to_numeric(df[\"Expected Price ($1k)\"], errors='coerce')\n",
    "    \n",
    "    # Drop rows with missing values\n",
    "    df = df.dropna()\n",
    "    \n",
    "    # Create 'Price per Mile' feature, handle divide by zero with np.where\n",
    "    df['Price per Mile'] = np.where(df['Electric Range'] == 0, np.nan, df['Expected Price ($1k)'] / df['Electric Range'])\n",
    "    \n",
    "    # Convert 'Model Year' to integer and calculate vehicle age\n",
    "    df[\"Model Year\"] = df[\"Model Year\"].astype(int)\n",
    "    current_year = 2024\n",
    "    df['Age of Vehicle'] = current_year - df['Model Year']\n",
    "    \n",
    "    # Encode categorical variables\n",
    "    label_encoder = LabelEncoder()\n",
    "    df['(CAFV)_Eligibility_encoded'] = label_encoder.fit_transform(df['Clean Alternative Fuel Vehicle (CAFV) Eligibility'])\n",
    "    df['EV_Type_encoded'] = label_encoder.fit_transform(df['Electric Vehicle Type'])\n",
    "    \n",
    "    # Aggregate and encode 'Model' and 'Make' based on mean 'Expected Price'\n",
    "    df['Model_encoded'] = df.groupby('Model')['Expected Price ($1k)'].transform('mean')\n",
    "    df['Make_encoded'] = df.groupby('Make')['Expected Price ($1k)'].transform('mean')\n",
    "    \n",
    "    return df\n"
   ]
  },
  {
   "cell_type": "markdown",
   "id": "aa1cfa77-3a24-450c-9779-6b8e2d3e4150",
   "metadata": {},
   "source": [
    "#### Checking relationships between the target vector and the feature matrix"
   ]
  },
  {
   "cell_type": "code",
   "execution_count": null,
   "id": "d3d23d64-38bf-4962-a335-2e966a7bdd2a",
   "metadata": {},
   "outputs": [],
   "source": [
    "selected_columns = ['Expected Price ($1k)', 'Model Year','Price per Mile', 'Electric Range', 'Age of Vehicle', 'Base MSRP', 'Model_encoded',\n",
    "       'Make_encoded', 'EV_Type_encoded', '(CAFV)_Eligibility_encoded']\n",
    "\n",
    "correlation_matrix = df[selected_columns].corr()"
   ]
  },
  {
   "cell_type": "code",
   "execution_count": null,
   "id": "28dc7d66-6395-4ae5-bb68-d4edb795a9bb",
   "metadata": {},
   "outputs": [],
   "source": [
    "correlation_matrix"
   ]
  },
  {
   "cell_type": "code",
   "execution_count": null,
   "id": "8188017d-e40e-4da5-9e4a-e37778a05dbd",
   "metadata": {},
   "outputs": [],
   "source": [
    "plt.figure(figsize=(15, 6)) \n",
    "sns.heatmap(correlation_matrix, \n",
    "            annot=True,\n",
    "            cmap=\"RdGy\",           \n",
    "            linewidths=0.5,           \n",
    "            linecolor='black',        \n",
    "            cbar_kws={'label': 'Correlation Coefficient'})\n",
    "\n",
    "plt.title('Correlation Matrix of Features', fontsize=18)\n",
    "plt.xlabel('Features', fontsize=10)\n",
    "plt.ylabel('Features', fontsize=10)\n",
    "\n",
    "plt.show()"
   ]
  },
  {
   "cell_type": "markdown",
   "id": "7f1c080f-7a65-4950-b877-3b0a4459dc73",
   "metadata": {},
   "source": [
    "# Modelling"
   ]
  },
  {
   "cell_type": "markdown",
   "id": "4df438c8-4bc7-4cea-8271-0c449bc3bb0b",
   "metadata": {
    "slideshow": {
     "slide_type": ""
    },
    "tags": []
   },
   "source": [
    "##### Selecting my features and splitting the data into training and test sets"
   ]
  },
  {
   "cell_type": "code",
   "execution_count": null,
   "id": "facd1ad7-f26d-4aa0-a6b5-9edfedd415c2",
   "metadata": {
    "slideshow": {
     "slide_type": ""
    },
    "tags": []
   },
   "outputs": [],
   "source": [
    "# Split features (X) and target (y) \n",
    "X = df.drop(columns=[\"ID\", \"VIN (1-10)\", \"Expected Price ($1k)\", \"Make\", \"Model\" , \"Price per Mile\",\"County\",\n",
    "                                 \"City\", \"State\", \"ZIP Code\", \"Electric Vehicle Type\", \"Legislative District\", \"DOL Vehicle ID\", \"Vehicle Location\", \"Electric Utility\", \"Clean Alternative Fuel Vehicle (CAFV) Eligibility\"])\n",
    "y = df['Expected Price ($1k)']\n",
    "\n",
    "# Splitting the data into training and test sets\n",
    "X_train, X_test, y_train, y_test = train_test_split(X, y, test_size=0.2, random_state=42)"
   ]
  },
  {
   "cell_type": "code",
   "execution_count": null,
   "id": "986aca73-3a42-43b5-be30-c9aa59ef86aa",
   "metadata": {
    "slideshow": {
     "slide_type": ""
    },
    "tags": []
   },
   "outputs": [],
   "source": [
    "# Verifying the features\n",
    "print(X_train.columns)"
   ]
  },
  {
   "cell_type": "markdown",
   "id": "1e0d6c9e-b6f7-42ed-8cf6-14006d8e3119",
   "metadata": {
    "slideshow": {
     "slide_type": ""
    },
    "tags": []
   },
   "source": [
    "##### Scaling my data to ensure that each feature contributes equally to the distance calculations or the optimization process."
   ]
  },
  {
   "cell_type": "code",
   "execution_count": null,
   "id": "edc56796-15d9-46a0-af95-fe4ce359ee67",
   "metadata": {
    "slideshow": {
     "slide_type": ""
    },
    "tags": []
   },
   "outputs": [],
   "source": [
    "# Check for NaN values\n",
    "print(np.isnan(X_train).sum())\n",
    "\n",
    "# Check for infinite values\n",
    "print(np.isinf(X_train).sum())\n"
   ]
  },
  {
   "cell_type": "code",
   "execution_count": null,
   "id": "37fa6692-39ee-47c8-9df8-c5124f838e6c",
   "metadata": {
    "slideshow": {
     "slide_type": ""
    },
    "tags": []
   },
   "outputs": [],
   "source": [
    "# Create a StandardScaler instance\n",
    "scaler = StandardScaler()\n",
    "\n",
    "# Fit and transform the training data\n",
    "X_train_scaled = scaler.fit_transform(X_train)\n",
    "\n",
    "# Transform the test data\n",
    "X_test_scaled = scaler.transform(X_test)"
   ]
  },
  {
   "cell_type": "markdown",
   "id": "cd37246a-5dbe-4c95-bc48-2688b30a1f17",
   "metadata": {},
   "source": [
    "## Support Vector Machine(SVR)"
   ]
  },
  {
   "cell_type": "code",
   "execution_count": null,
   "id": "ba3e43ad-6210-4433-8f37-c424dd5a3938",
   "metadata": {},
   "outputs": [],
   "source": [
    "svr_model = SVR(C=90, gamma='scale', kernel='rbf')"
   ]
  },
  {
   "cell_type": "code",
   "execution_count": null,
   "id": "ae68fe6c-789b-448c-88f9-964987655aac",
   "metadata": {},
   "outputs": [],
   "source": [
    "svr_model.fit(X_train_scaled, y_train)"
   ]
  },
  {
   "cell_type": "code",
   "execution_count": null,
   "id": "ca0c329a-6d3e-4b81-88cf-7926ad64e520",
   "metadata": {},
   "outputs": [],
   "source": [
    "svr_ypred = svr_model.predict(X_test_scaled)"
   ]
  },
  {
   "cell_type": "code",
   "execution_count": null,
   "id": "5f5f5953-44bc-45bc-8159-acf70787464f",
   "metadata": {
    "slideshow": {
     "slide_type": ""
    },
    "tags": []
   },
   "outputs": [],
   "source": [
    "# Model evaluation\n",
    "print(\"SVR RMSE:\", mean_squared_error(y_test, svr_ypred, squared=False))\n",
    "print(\"SVR R2 Score:\", r2_score(y_test, svr_ypred))"
   ]
  },
  {
   "cell_type": "markdown",
   "id": "fa01f21d-95e1-4257-b565-13701778d725",
   "metadata": {
    "slideshow": {
     "slide_type": ""
    },
    "tags": []
   },
   "source": [
    "#### saving the trained model"
   ]
  },
  {
   "cell_type": "code",
   "execution_count": null,
   "id": "361a32cc-2b0d-4575-a77a-5a420eb772b0",
   "metadata": {},
   "outputs": [],
   "source": [
    "import pickle"
   ]
  },
  {
   "cell_type": "code",
   "execution_count": null,
   "id": "afe1ffed-97a8-45dc-9ce2-111fe2c58f0f",
   "metadata": {},
   "outputs": [],
   "source": [
    "# Perform target encoding for 'Model' and 'Make' using the mean of 'Expected Price ($1k)'\n",
    "model_encoding = df.groupby('Model')['Expected Price ($1k)'].mean().to_dict()\n",
    "make_encoding = df.groupby('Make')['Expected Price ($1k)'].mean().to_dict()\n",
    "\n",
    "# Save the model and encoding mappings together in a dictionary\n",
    "model_data = {\n",
    "    'model': svr_model,  # Your trained SVR model\n",
    "    'model_encoding': model_encoding,  # Target encoding for 'Model'\n",
    "    'make_encoding': make_encoding     # Target encoding for 'Make'\n",
    "}\n",
    "\n",
    "# Save the dictionary with the model and encodings to a .sav file\n",
    "filename = \"trained_model_and_encodings.sav\"\n",
    "pickle.dump(model_data, open(filename, 'wb'))\n",
    "\n",
    "print(f\"Model and encodings saved to {filename}\")"
   ]
  },
  {
   "cell_type": "markdown",
   "id": "bf26a8b6-ea72-4afc-b2b0-14031387518a",
   "metadata": {},
   "source": [
    "#### loading the saved model"
   ]
  },
  {
   "cell_type": "code",
   "execution_count": null,
   "id": "fe91bc52-06a5-486d-99b1-7cb1b89d243b",
   "metadata": {},
   "outputs": [],
   "source": [
    "# Load the model and encodings from the .sav file\n",
    "filename = \"trained_model_and_encodings.sav\"\n",
    "loaded_data = pickle.load(open(filename, 'rb'))\n",
    "\n",
    "# Extract the model and the encodings\n",
    "loaded_model = loaded_data['model']  # SVR model\n",
    "loaded_model_encoding = loaded_data['model_encoding']  # Model encodings\n",
    "loaded_make_encoding = loaded_data['make_encoding']  # Make encodings\n",
    "\n",
    "print(\"Model and encodings loaded successfully.\")"
   ]
  },
  {
   "cell_type": "markdown",
   "id": "45564c88-f07f-4d82-94d0-9e0f2e2b33fc",
   "metadata": {},
   "source": [
    "#### Transforming New Data for Prediction"
   ]
  },
  {
   "cell_type": "code",
   "execution_count": null,
   "id": "988437b9-5c76-461c-abdd-a5792899c345",
   "metadata": {},
   "outputs": [],
   "source": [
    "# Let's assume we have new data for prediction\n",
    "new_model = \"MODEL 3\"\n",
    "new_make = \"TESLA\"\n",
    "new_model_year = 2022\n",
    "new_electric_range = 350  \n",
    "new_base_msrp = 35000     \n",
    "new_vehicle_age = 2        \n",
    "new_cafv_eligibility = 1   \n",
    "new_ev_type = 1           \n",
    "\n",
    "# Apply the encoding using the loaded encoding mappings\n",
    "encoded_model = loaded_model_encoding.get(new_model, 0)  \n",
    "encoded_make = loaded_make_encoding.get(new_make, 0)     \n",
    "\n",
    "# Create the input data list with all required features\n",
    "new_data = [\n",
    "    new_model_year,         # 'Model Year'\n",
    "    new_electric_range,     # 'Electric Range'\n",
    "    new_base_msrp,          # 'Base MSRP'\n",
    "    new_vehicle_age,        # 'Age of Vehicle'\n",
    "    new_cafv_eligibility,   # '(CAFV)_Eligibility_encoded'\n",
    "    new_ev_type,            # 'EV_Type_encoded'\n",
    "    encoded_model,          # 'Model_encoded'\n",
    "    encoded_make            # 'Make_encoded'\n",
    "]\n",
    "\n",
    "# Make a prediction with the loaded model\n",
    "predicted_price = loaded_model.predict([new_data])\n",
    "\n",
    "print(f\"Predicted price: ${predicted_price[0]}k\")"
   ]
  }
 ],
 "metadata": {
  "kernelspec": {
   "display_name": "Python 3 (ipykernel)",
   "language": "python",
   "name": "python3"
  },
  "language_info": {
   "codemirror_mode": {
    "name": "ipython",
    "version": 3
   },
   "file_extension": ".py",
   "mimetype": "text/x-python",
   "name": "python",
   "nbconvert_exporter": "python",
   "pygments_lexer": "ipython3",
   "version": "3.10.9"
  }
 },
 "nbformat": 4,
 "nbformat_minor": 5
}
