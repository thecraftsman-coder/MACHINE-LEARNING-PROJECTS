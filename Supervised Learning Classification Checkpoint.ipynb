{
 "cells": [
  {
   "cell_type": "markdown",
   "id": "38689ef7-adc8-4a60-89d2-8b11aa313131",
   "metadata": {},
   "source": [
    "# System Crisis Prediction"
   ]
  },
  {
   "cell_type": "markdown",
   "id": "e2f51c37-803a-4c67-8b91-3c6681c18f0d",
   "metadata": {},
   "source": [
    "**This project uses the 'Systemic Crisis, Banking Crisis, inflation Crisis In Africa' dataset that was provided by Kaggle.**\n",
    "\n",
    "- Dataset description : This dataset focuses on the Banking, Debt, Financial, Inflation and Systemic Crises that occurred, from 1860 to 2014, in 13 African countries, including: Algeria, Angola, Central African Republic, Ivory Coast, Egypt, Kenya, Mauritius, Morocco, Nigeria, South Africa, Tunisia, Zambia and Zimbabwe. The ML model objective is to predict the likelihood of a Systemic crisis emergence given a set of indicators like the annual inflation rates.\n",
    "\n",
    " ➡️ Dataset link\n",
    "\n",
    "https://i.imgur.com/3XzFz3x.jpg\n",
    "\n",
    "\n",
    "**Instructions**\n",
    "\n",
    "1. Import you data and perform basic data exploration phase\n",
    "2. Display general information about the dataset\n",
    "3. Create a pandas profiling reports to gain insights into the dataset\n",
    "4. Handle Missing and corrupted values\n",
    "5. Remove duplicates, if they exist\n",
    "6. Handle outliers, if they exist\n",
    "7. Encode categorical features\n",
    "8. Select your target variable and the features\n",
    "9. Split your dataset to training and test sets\n",
    "10. Based on your data exploration phase select a ML classification algorithm and train it on the training set\n",
    "11. Assess your model performance on the test set using relevant evaluation metrics\n",
    "12. Discuss with your cohort alternative ways to improve your model performance"
   ]
  },
  {
   "cell_type": "code",
   "execution_count": null,
   "id": "79221897-3d4e-4837-949c-29a47161ffee",
   "metadata": {
    "jp-MarkdownHeadingCollapsed": true,
    "tags": []
   },
   "outputs": [],
   "source": [
    "# importing necessary libraries\n",
    "\n",
    "import pandas as pd\n",
    "import numpy as np \n",
    "import seaborn as sns\n",
    "import matplotlib.pyplot as plt \n",
    "\n",
    "from sklearn.model_selection import train_test_split\n",
    "from sklearn.preprocessing import StandardScaler\n",
    "from sklearn.preprocessing import LabelEncoder\n",
    "from sklearn.preprocessing import OneHotEncoder\n",
    "from sklearn.metrics import classification_report, confusion_matrix, accuracy_score\n",
    "\n",
    "from sklearn.model_selection import StratifiedKFold\n",
    "from sklearn.model_selection import cross_val_score"
   ]
  },
  {
   "cell_type": "markdown",
   "id": "c96db4ae-e322-43a2-9750-c9968b1ebc32",
   "metadata": {},
   "source": [
    "# Loading the dataset"
   ]
  },
  {
   "cell_type": "code",
   "execution_count": null,
   "id": "eba56080-466c-4025-9c70-909474c0db42",
   "metadata": {
    "tags": []
   },
   "outputs": [],
   "source": [
    "df = pd.read_csv(\"African_crises_dataset.csv\")"
   ]
  },
  {
   "cell_type": "code",
   "execution_count": null,
   "id": "032e74b6-1ef5-43ec-ac0b-b5b7d1a1c583",
   "metadata": {
    "tags": []
   },
   "outputs": [],
   "source": [
    "pd.set_option('display.max_columns', None)"
   ]
  },
  {
   "cell_type": "markdown",
   "id": "31f6eec8-49c0-444f-88e5-8b8d151c5ffb",
   "metadata": {},
   "source": [
    "#### Overview of the dataset"
   ]
  },
  {
   "cell_type": "code",
   "execution_count": null,
   "id": "5d011c6e-2a8d-4c8d-be30-adbfe3bdb6d4",
   "metadata": {
    "tags": []
   },
   "outputs": [],
   "source": [
    "df.head()"
   ]
  },
  {
   "cell_type": "markdown",
   "id": "11a9663d-c655-416f-bafa-16977153e64d",
   "metadata": {},
   "source": [
    "#### More information about the dataset"
   ]
  },
  {
   "cell_type": "code",
   "execution_count": null,
   "id": "fc314b7d-eb21-485c-b5cd-1505d21fcbe0",
   "metadata": {
    "tags": []
   },
   "outputs": [],
   "source": [
    "df.shape"
   ]
  },
  {
   "cell_type": "code",
   "execution_count": null,
   "id": "d4af8d03-0d6f-47d6-b63c-704faba65ee9",
   "metadata": {
    "tags": []
   },
   "outputs": [],
   "source": [
    "df.info()"
   ]
  },
  {
   "cell_type": "markdown",
   "id": "edc0e3bf-2add-4969-b9f7-f81b3a92ebf9",
   "metadata": {},
   "source": [
    "#### Summary statistics"
   ]
  },
  {
   "cell_type": "code",
   "execution_count": null,
   "id": "579d1898-d6c7-4296-bf53-cc27bf78b628",
   "metadata": {
    "tags": []
   },
   "outputs": [],
   "source": [
    "df.describe(include ='all')"
   ]
  },
  {
   "cell_type": "markdown",
   "id": "5afbf842-2961-4390-878c-c829fef52424",
   "metadata": {},
   "source": [
    "#### Checking for missing values and duplicates"
   ]
  },
  {
   "cell_type": "code",
   "execution_count": null,
   "id": "17654fc2-07e6-4571-b93b-872c3e26462d",
   "metadata": {
    "tags": []
   },
   "outputs": [],
   "source": [
    "df.isnull().sum()"
   ]
  },
  {
   "cell_type": "markdown",
   "id": "8532a364-1262-46cf-8779-29889a6af376",
   "metadata": {},
   "source": [
    "***There are no missing values in this dataset***"
   ]
  },
  {
   "cell_type": "code",
   "execution_count": null,
   "id": "3f3064f1-2008-4263-9e40-b8b6e0a06e5d",
   "metadata": {
    "tags": []
   },
   "outputs": [],
   "source": [
    "df.duplicated().sum()"
   ]
  },
  {
   "cell_type": "markdown",
   "id": "4e7578ea-4a94-431c-b30c-680c25534ca0",
   "metadata": {},
   "source": [
    "***There are no duplicates in this dataset***"
   ]
  },
  {
   "cell_type": "markdown",
   "id": "0449d6a0-e7a4-4f99-bb1d-54cb0a2cf0a3",
   "metadata": {},
   "source": [
    "#### Encoding categorical columns"
   ]
  },
  {
   "cell_type": "code",
   "execution_count": null,
   "id": "e53cf778-439a-4d36-959c-89836106ce92",
   "metadata": {
    "tags": []
   },
   "outputs": [],
   "source": [
    "df[\"banking_crisis\"].value_counts()"
   ]
  },
  {
   "cell_type": "code",
   "execution_count": null,
   "id": "a12e9f7c-e827-49d3-bebf-8be8f120da51",
   "metadata": {
    "tags": []
   },
   "outputs": [],
   "source": [
    "# Manual mapping\n",
    "crisis_mapping = {'crisis': 1, 'no_crisis': 0}\n",
    "df['bank_crisis_encoded'] = df['banking_crisis'].map(crisis_mapping)\n",
    "\n",
    "df.head()"
   ]
  },
  {
   "cell_type": "code",
   "execution_count": null,
   "id": "0bc914f4-6ed9-48da-8ab2-f94d0b1938ce",
   "metadata": {
    "tags": []
   },
   "outputs": [],
   "source": [
    "df[\"country\"].value_counts()"
   ]
  },
  {
   "cell_type": "code",
   "execution_count": null,
   "id": "b09dff13-38ba-44ae-8d95-0a19b1ee59db",
   "metadata": {
    "tags": []
   },
   "outputs": [],
   "source": [
    "# One-Hot Encode the 'country' column\n",
    "df_encoded = pd.get_dummies(df, columns=['country'], prefix='country')\n",
    "\n",
    "# Re-attach the original 'country' column\n",
    "df_encoded['country'] = df['country']"
   ]
  },
  {
   "cell_type": "code",
   "execution_count": null,
   "id": "65c99fec-6d67-4d08-b14a-0b3cce2986d8",
   "metadata": {
    "tags": []
   },
   "outputs": [],
   "source": [
    "df_encoded.head()"
   ]
  },
  {
   "cell_type": "code",
   "execution_count": null,
   "id": "79f3ece2-af59-444a-a477-31fe8d9159ff",
   "metadata": {
    "tags": []
   },
   "outputs": [],
   "source": [
    "df[\"country_number\"].value_counts()"
   ]
  },
  {
   "cell_type": "code",
   "execution_count": null,
   "id": "aa5b4a00-c793-4cf5-b340-3084d0b2ec45",
   "metadata": {
    "tags": []
   },
   "outputs": [],
   "source": [
    "selected_columns = ['country_number', 'year', 'systemic_crisis','exch_usd', 'domestic_debt_in_default', 'sovereign_external_debt_default', 'gdp_weighted_default', 'inflation_annual_cpi', 'independence', 'currency_crises', 'inflation_crises', 'bank_crisis_encoded','country_Algeria','country_Angola','country_Central African Republic','country_Egypt','country_Ivory Coast','country_Kenya','country_Mauritius','country_Morocco','country_Nigeria', 'country_South Africa','country_Tunisia','country_Zambia','country_Zimbabwe']\n",
    "\n",
    "correlation_matrix = df_encoded[selected_columns].corr()"
   ]
  },
  {
   "cell_type": "code",
   "execution_count": null,
   "id": "7f873ad4-e5f3-495a-a8bd-b4c8781d1662",
   "metadata": {
    "tags": []
   },
   "outputs": [],
   "source": [
    "correlation_matrix"
   ]
  },
  {
   "cell_type": "code",
   "execution_count": null,
   "id": "d10833bd-6870-479f-89e3-a4418899a4b8",
   "metadata": {},
   "outputs": [],
   "source": [
    "plt.figure(figsize=(20, 15)) \n",
    "sns.heatmap(correlation_matrix, \n",
    "            annot=True,\n",
    "            cmap=\"BrBG\",           \n",
    "            linewidths=0.5,           \n",
    "            linecolor='black',        \n",
    "            cbar_kws={'label': 'Correlation Coefficient'})\n",
    "\n",
    "plt.title('Correlation Matrix of Features', fontsize=18)\n",
    "plt.xlabel('Features', fontsize=10)\n",
    "plt.ylabel('Features', fontsize=10)\n",
    "\n",
    "plt.show()"
   ]
  },
  {
   "cell_type": "markdown",
   "id": "c6f8af36-7023-4442-bacb-d8e5e90c860b",
   "metadata": {},
   "source": [
    "### Modelling"
   ]
  },
  {
   "cell_type": "markdown",
   "id": "6ccec995-eb1e-4ac1-8bd0-44850ad36c79",
   "metadata": {
    "tags": []
   },
   "source": [
    "#### selecting features and splitting the data into training and test sets"
   ]
  },
  {
   "cell_type": "code",
   "execution_count": null,
   "id": "344c9f49-e50e-485f-a29b-5df359867685",
   "metadata": {
    "tags": []
   },
   "outputs": [],
   "source": [
    "#dropping unnecessary columns \n",
    "X = df_encoded.drop(columns=[\"systemic_crisis\", \"gdp_weighted_default\", \"country_code\", \"country_number\", \"country\", \"banking_crisis\", \"country_code\"])\n",
    "\n",
    "#selecting the target variable\n",
    "y = df_encoded[\"systemic_crisis\"]\n",
    "\n",
    "# Splitting the data into training and test sets\n",
    "X_train, X_test, y_train, y_test = train_test_split(X, y, test_size=0.2, random_state=42)\n",
    "\n",
    "# Verifying the features\n",
    "print(X_train.columns)"
   ]
  },
  {
   "cell_type": "markdown",
   "id": "19d05297-9ecf-488e-bb8a-253cb8029a40",
   "metadata": {},
   "source": [
    "### KNN\n",
    "#### K-Nearest Neigbour for Classification"
   ]
  },
  {
   "cell_type": "code",
   "execution_count": null,
   "id": "816200ff-8500-425d-84bf-fc338d0386cc",
   "metadata": {
    "tags": []
   },
   "outputs": [],
   "source": [
    "from sklearn.neighbors import KNeighborsClassifier as knn\n",
    "\n",
    "ks = range(1, 10)\n",
    "mean_accuracy = []\n",
    "\n",
    "for n in ks:\n",
    "    knn_model  = knn(n_neighbors = n)\n",
    "    knn_model.fit(X_train, y_train)\n",
    "    knn_ypred = knn_model.predict(X_test)\n",
    "    mean_accuracy.append(accuracy_score(y_test, knn_ypred))"
   ]
  },
  {
   "cell_type": "code",
   "execution_count": null,
   "id": "50c08a9b-e42d-49dd-b8b7-d58945ce7bdc",
   "metadata": {
    "tags": []
   },
   "outputs": [],
   "source": [
    "for i in range(0, len(mean_accuracy)):\n",
    "    print(\"k = {} has a Score = {} \".format(i+1, mean_accuracy[i]))"
   ]
  },
  {
   "cell_type": "code",
   "execution_count": null,
   "id": "87989cbd-900a-40d4-96d7-a754c96a45fd",
   "metadata": {
    "tags": []
   },
   "outputs": [],
   "source": [
    "# Relation between k's and their respective accuracies\n",
    "plt.plot(ks, mean_accuracy)\n",
    "plt.xlabel('Values of K')\n",
    "plt.ylabel('Testing Accuracy Values')"
   ]
  },
  {
   "cell_type": "code",
   "execution_count": null,
   "id": "ce9e906f-3e5c-425d-8529-6d194b458e03",
   "metadata": {
    "tags": []
   },
   "outputs": [],
   "source": [
    "# Final Model with best value of k\n",
    "knn_model = knn(n_neighbors = 4)"
   ]
  },
  {
   "cell_type": "code",
   "execution_count": null,
   "id": "3b69bf83-d694-44a3-9479-77e945cd3cc1",
   "metadata": {
    "tags": []
   },
   "outputs": [],
   "source": [
    "#fitting  it into the model\n",
    "knn_model.fit(X_train, y_train)"
   ]
  },
  {
   "cell_type": "code",
   "execution_count": null,
   "id": "e746eb3d-cc2d-470d-b0e8-c23be334bfe9",
   "metadata": {
    "tags": []
   },
   "outputs": [],
   "source": [
    "knn_ypred = knn_model.predict(X_test)"
   ]
  },
  {
   "cell_type": "code",
   "execution_count": null,
   "id": "a8c357db-8565-47ef-a8bb-ec100c9bf808",
   "metadata": {
    "tags": []
   },
   "outputs": [],
   "source": [
    "# Evaluate the model\n",
    "# Accuracy\n",
    "accuracy = accuracy_score(y_test,knn_ypred)\n",
    "print(f\"Accuracy: {accuracy}\")\n",
    "\n",
    "# Confusion Matrix\n",
    "cm = confusion_matrix(y_test, knn_ypred)\n",
    "print(f\"Confusion Matrix:\\n{cm}\")\n",
    "\n",
    "# Classification Report (includes precision, recall, and F1-score)\n",
    "report = classification_report(y_test, knn_ypred)\n",
    "print(f\"Classification Report:\\n{report}\")"
   ]
  },
  {
   "cell_type": "code",
   "execution_count": null,
   "id": "70914eef-1c58-4187-9280-40641e19edd1",
   "metadata": {
    "tags": []
   },
   "outputs": [],
   "source": [
    "confusion_matrix = pd.crosstab(y_test, knn_ypred, rownames=['Actual'], colnames=['Predicted'])\n",
    "\n",
    "# Adjusting figure size\n",
    "plt.figure(figsize=(6, 4))  \n",
    "\n",
    "sns.heatmap(confusion_matrix, annot=True, cmap=\"BrBG\", linewidths=0.5, linecolor='black')\n",
    "plt.title('Confusion Matrix', fontsize=15)\n",
    "plt.xlabel('Predicted', fontsize=12)\n",
    "plt.ylabel('Actual', fontsize=12)\n",
    "plt.show()"
   ]
  },
  {
   "cell_type": "markdown",
   "id": "fc73fd88-8810-47f4-94ec-90ec4f229fcb",
   "metadata": {},
   "source": [
    "### SVM\n",
    "Support vector machine classifier"
   ]
  },
  {
   "cell_type": "code",
   "execution_count": null,
   "id": "48feccc9-69d6-4621-acd1-ea625e64119d",
   "metadata": {},
   "outputs": [],
   "source": [
    "from sklearn.svm import SVC "
   ]
  },
  {
   "cell_type": "code",
   "execution_count": null,
   "id": "6c861bfb-b1a5-4b35-b75c-fde04b0c5c5b",
   "metadata": {},
   "outputs": [],
   "source": [
    "from sklearn.metrics import f1_score"
   ]
  },
  {
   "cell_type": "code",
   "execution_count": null,
   "id": "b299af02-b4fb-4bd4-a926-9729cf6e1a78",
   "metadata": {},
   "outputs": [],
   "source": [
    "kernel_func = ['sigmoid', 'poly', 'rbf', 'linear']\n",
    "accuracy_score = []\n",
    "\n",
    "for k in kernel_func:\n",
    "    svc_model = SVC(C = 0.01, gamma = 'auto', kernel = k)\n",
    "    svc_model.fit(X_train, y_train)\n",
    "    svc_ypred = svc_model.predict(X_test)\n",
    "    accuracy_score.append(f1_score(y_test, svc_ypred, average = 'weighted'))"
   ]
  },
  {
   "cell_type": "code",
   "execution_count": null,
   "id": "3acf1ed8-22de-4f57-893b-b41ae5b9edfb",
   "metadata": {},
   "outputs": [],
   "source": [
    "# Visualization of best kernel\n",
    "\n",
    "y_pos = np.arange(len(kernel_func))\n",
    "plt.bar(y_pos, accuracy_score, align='center', alpha = 0.8, color='green')\n",
    "plt.xticks(y_pos, kernel_func)\n",
    "plt.xlabel('Kernel Functions')\n",
    "plt.ylabel('Accuracy')"
   ]
  },
  {
   "cell_type": "code",
   "execution_count": null,
   "id": "d74fc0d4-5576-4f13-bac1-a3cf5f390bcc",
   "metadata": {},
   "outputs": [],
   "source": [
    "svc_model = SVC(C = 0.01, gamma = 'auto', kernel = 'poly')"
   ]
  },
  {
   "cell_type": "code",
   "execution_count": null,
   "id": "57e0fdb3-1f3c-4711-a077-b73c5e596702",
   "metadata": {},
   "outputs": [],
   "source": [
    "svc_model.fit(X_train, y_train)"
   ]
  },
  {
   "cell_type": "code",
   "execution_count": null,
   "id": "ba8e48bc-f5a1-4efd-b2ad-b74c9247fab9",
   "metadata": {},
   "outputs": [],
   "source": [
    "svc_ypred = svc_model.predict(X_test)"
   ]
  },
  {
   "cell_type": "code",
   "execution_count": null,
   "id": "109f1a1b-4269-4d8c-a2f3-937d52ed563d",
   "metadata": {},
   "outputs": [],
   "source": [
    "from sklearn.metrics import accuracy_score, confusion_matrix, classification_report"
   ]
  },
  {
   "cell_type": "code",
   "execution_count": null,
   "id": "1ef177cf-92a7-4236-92f1-2ac01b22cbbe",
   "metadata": {},
   "outputs": [],
   "source": [
    "# Evaluate the model\n",
    "# Accuracy\n",
    "accuracy = accuracy_score(y_test,svc_ypred)\n",
    "print(f\"Accuracy: {accuracy}\")\n",
    "\n",
    "# Confusion Matrix\n",
    "cm = confusion_matrix(y_test, svc_ypred)\n",
    "print(f\"Confusion Matrix:\\n{cm}\")\n",
    "\n",
    "# Classification Report (includes precision, recall, and F1-score)\n",
    "report = classification_report(y_test, svc_ypred)\n",
    "print(f\"Classification Report:\\n{report}\")"
   ]
  },
  {
   "cell_type": "code",
   "execution_count": null,
   "id": "5ef279d4-c8bc-4641-abd3-e43d718a45ba",
   "metadata": {},
   "outputs": [],
   "source": [
    "confusion_matrix = pd.crosstab(y_test, svc_ypred, rownames=['Actual'], colnames=['Predicted'])\n",
    "\n",
    "# Adjusting figure size\n",
    "plt.figure(figsize=(6, 4))  \n",
    "\n",
    "sns.heatmap(confusion_matrix, annot=True, cmap=\"BrBG\", linewidths=0.5, linecolor='black')\n",
    "plt.title('Confusion Matrix', fontsize=15)\n",
    "plt.xlabel('Predicted', fontsize=12)\n",
    "plt.ylabel('Actual', fontsize=12)\n",
    "plt.show()"
   ]
  },
  {
   "cell_type": "markdown",
   "id": "bab44171-386f-4132-8221-dd5155af91d5",
   "metadata": {},
   "source": [
    "### Decision Tree"
   ]
  },
  {
   "cell_type": "code",
   "execution_count": null,
   "id": "e506c8c9-dd84-4b5d-95f5-053f667c337b",
   "metadata": {},
   "outputs": [],
   "source": [
    "from sklearn.tree import DecisionTreeClassifier \n",
    "from sklearn.metrics import jaccard_score"
   ]
  },
  {
   "cell_type": "code",
   "execution_count": null,
   "id": "40e13a4b-d192-4814-a1b8-3f50e627251f",
   "metadata": {},
   "outputs": [],
   "source": [
    "depth_range = range(1, 10)\n",
    "jaccard_score_ = []\n",
    "f1_score_ = []\n",
    "\n",
    "for d in depth_range:\n",
    "    dt = DecisionTreeClassifier(criterion = 'gini', max_depth = d)\n",
    "    dt.fit(X_train, y_train)\n",
    "    dt_ypred = dt.predict(X_test)\n",
    "    jaccard_score_.append(jaccard_score(y_test, dt_ypred))\n",
    "    f1_score_.append(f1_score(y_test, dt_ypred, average = 'weighted'))"
   ]
  },
  {
   "cell_type": "code",
   "execution_count": null,
   "id": "ebf19438-41ba-4bb8-8143-83dbd00dd769",
   "metadata": {},
   "outputs": [],
   "source": [
    "# Creating a df to check the best value of max_depth\n",
    "\n",
    "result = pd.DataFrame([jaccard_score_, f1_score_], index = ['Jaccard', 'F1'], columns = ['d = 1','d = 2','d = 3','d = 4','d = 5','d = 6','d = 7','d = 8','d = 9'])\n",
    "result.columns.name = 'Evaluation Metrices'\n",
    "result"
   ]
  },
  {
   "cell_type": "code",
   "execution_count": null,
   "id": "d40acefe-b5bc-4c1c-a8a2-0c7746761284",
   "metadata": {},
   "outputs": [],
   "source": [
    "# Main Model\n",
    "dt_model = DecisionTreeClassifier(criterion = 'gini', max_depth = 2)"
   ]
  },
  {
   "cell_type": "code",
   "execution_count": null,
   "id": "2d7462ce-52a8-415b-8c52-e63a4f6c3987",
   "metadata": {},
   "outputs": [],
   "source": [
    "dt_model.fit(X_train, y_train)"
   ]
  },
  {
   "cell_type": "code",
   "execution_count": null,
   "id": "ab8b90eb-bf9a-45ae-be31-831ffbe5c560",
   "metadata": {},
   "outputs": [],
   "source": [
    "dt_ypred = dt_model.predict(X_test)"
   ]
  },
  {
   "cell_type": "code",
   "execution_count": null,
   "id": "e7e912b3-01ac-41e0-8e9b-bc013c5e3be3",
   "metadata": {},
   "outputs": [],
   "source": [
    "# Evaluate the model\n",
    "from sklearn.metrics import accuracy_score, confusion_matrix, classification_report\n",
    "\n",
    "# Accuracy\n",
    "accuracy = accuracy_score(y_test,dt_ypred)\n",
    "print(f\"Accuracy: {accuracy}\")\n",
    "\n",
    "# Confusion Matrix\n",
    "cm = confusion_matrix(y_test, dt_ypred)\n",
    "print(f\"Confusion Matrix:\\n{cm}\")\n",
    "\n",
    "# Classification Report (includes precision, recall, and F1-score)\n",
    "report = classification_report(y_test, dt_ypred)\n",
    "print(f\"Classification Report:\\n{report}\")"
   ]
  },
  {
   "cell_type": "code",
   "execution_count": null,
   "id": "c0f882c2-bae1-484d-ac12-f68e65ebb089",
   "metadata": {},
   "outputs": [],
   "source": [
    "confusion_matrix = pd.crosstab(y_test, dt_ypred, rownames=['Actual'], colnames=['Predicted'])\n",
    "\n",
    "# Adjusting figure size\n",
    "plt.figure(figsize=(6, 4))  \n",
    "\n",
    "sns.heatmap(confusion_matrix, annot=True, cmap=\"BrBG\", linewidths=0.5, linecolor='black')\n",
    "plt.title('Confusion Matrix', fontsize=15)\n",
    "plt.xlabel('Predicted', fontsize=12)\n",
    "plt.ylabel('Actual', fontsize=12)\n",
    "plt.show()"
   ]
  },
  {
   "cell_type": "code",
   "execution_count": null,
   "id": "5ef3e9f0-99bd-4e12-a214-06cdb49ca798",
   "metadata": {},
   "outputs": [],
   "source": []
  },
  {
   "cell_type": "code",
   "execution_count": null,
   "id": "50d6d57b-2f92-401d-b4da-467334a9ad8d",
   "metadata": {},
   "outputs": [],
   "source": []
  },
  {
   "cell_type": "code",
   "execution_count": null,
   "id": "9c75a8e5-97a7-4541-a891-23a77c9ca0ef",
   "metadata": {},
   "outputs": [],
   "source": []
  }
 ],
 "metadata": {
  "kernelspec": {
   "display_name": "Python 3 (ipykernel)",
   "language": "python",
   "name": "python3"
  },
  "language_info": {
   "codemirror_mode": {
    "name": "ipython",
    "version": 3
   },
   "file_extension": ".py",
   "mimetype": "text/x-python",
   "name": "python",
   "nbconvert_exporter": "python",
   "pygments_lexer": "ipython3",
   "version": "3.10.9"
  }
 },
 "nbformat": 4,
 "nbformat_minor": 5
}
