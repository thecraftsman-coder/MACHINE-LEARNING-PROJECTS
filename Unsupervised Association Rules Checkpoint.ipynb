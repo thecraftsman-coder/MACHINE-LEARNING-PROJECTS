{
 "cells": [
  {
   "cell_type": "markdown",
   "id": "3d3fbb36-7e22-482f-a657-43e5e0296114",
   "metadata": {},
   "source": [
    "# Customer purchases history"
   ]
  },
  {
   "cell_type": "markdown",
   "id": "5a62dbaf-cb24-499b-adbd-1434e9473502",
   "metadata": {},
   "source": [
    "In this Project, we are going to work on **'Customer purchases history'** dataset provided by Kaggle\n",
    "\n",
    "Dataset description: This dataset contains historical records for customer purchases from a supermarket X. The objective is to find the association rules to help supermarket owners find new marketing plans to improve their sales.\n",
    "\n",
    "🚧 Each row corresponds to one purchase"
   ]
  },
  {
   "cell_type": "markdown",
   "id": "c4c065d3-dec8-4ffe-a0f1-112036bf1c04",
   "metadata": {},
   "source": [
    "\n",
    "toy_dataset = [['Skirt', 'Sneakers', 'Scarf', 'Pants', 'Hat'],\n",
    "\n",
    "        ['Sunglasses', 'Skirt', 'Sneakers', 'Pants', 'Hat'],\n",
    "\n",
    "        ['Dress', 'Sandals', 'Scarf', 'Pants', 'Heels'],\n",
    "\n",
    "        ['Dress', 'Necklace', 'Earrings', 'Scarf', 'Hat', 'Heels', 'Hat'],\n",
    "\n",
    "      ['Earrings', 'Skirt', 'Skirt', 'Scarf', 'Shirt', 'Pants']]"
   ]
  },
  {
   "cell_type": "markdown",
   "id": "9ae85297-a59c-4c04-a349-3552a9bf1f2a",
   "metadata": {},
   "source": [
    "### Instructions\n",
    "\n",
    "1. Run the apriori algorithm on the provided toy_dataset. Interpret the results.\n",
    "2. Try to explore the checkpoint dataset using Pandas and Plotly.\n",
    "3. Run the apriori algorithm on checkpoint dataset. Interpret the results and suggest a clear business plan to the supermarket owners based on your findings."
   ]
  },
  {
   "cell_type": "code",
   "execution_count": null,
   "id": "5876db00-b514-4118-bf44-aaa21d6ffe2d",
   "metadata": {
    "scrolled": true
   },
   "outputs": [],
   "source": [
    "!pip install mlxtend"
   ]
  },
  {
   "cell_type": "code",
   "execution_count": null,
   "id": "8c7bb80d-6581-4767-8af9-cf6d8203de8b",
   "metadata": {},
   "outputs": [],
   "source": [
    "import pandas as pd\n",
    "from mlxtend.frequent_patterns import apriori, association_rules"
   ]
  },
  {
   "cell_type": "code",
   "execution_count": null,
   "id": "588ab918-bf14-4a40-8638-5c7880bb0243",
   "metadata": {},
   "outputs": [],
   "source": [
    "toy_dataset = [['Skirt', 'Sneakers', 'Scarf', 'Pants', 'Hat'],\n",
    "\n",
    "    ['Sunglasses', 'Skirt', 'Sneakers', 'Pants', 'Hat'],\n",
    "\n",
    "    ['Dress', 'Sandals', 'Scarf', 'Pants', 'Heels'],\n",
    "\n",
    "    ['Dress', 'Necklace', 'Earrings', 'Scarf', 'Hat', 'Heels', 'Hat'],\n",
    "\n",
    "  ['Earrings', 'Skirt', 'Skirt', 'Scarf', 'Shirt', 'Pants']]\n",
    "\n",
    "df = pd.DataFrame(toy_dataset)\n",
    "df"
   ]
  },
  {
   "cell_type": "code",
   "execution_count": null,
   "id": "76e2f943-3b97-453c-af70-1a70cc0cce0b",
   "metadata": {},
   "outputs": [],
   "source": [
    "from mlxtend.preprocessing import TransactionEncoder\n",
    "te = TransactionEncoder()\n",
    "te_data = te.fit(toy_dataset).transform(toy_dataset)\n",
    "\n",
    "# Display the output\n",
    "te_data"
   ]
  },
  {
   "cell_type": "code",
   "execution_count": null,
   "id": "6f53cecf-6e2d-4a5d-8433-8aeae5d15f2e",
   "metadata": {},
   "outputs": [],
   "source": [
    "# Convert to DataFrame\n",
    "onehot_df = pd.DataFrame(te_data, columns=te.columns_)\n",
    "\n",
    "onehot_df"
   ]
  },
  {
   "cell_type": "code",
   "execution_count": null,
   "id": "3e8e5ae2-1be8-49e3-8ced-215de7658d11",
   "metadata": {},
   "outputs": [],
   "source": [
    "# We'll set a `min_support` value to control the threshold of how frequent an itemset must be to be considered.\n",
    "\n",
    "frequent_itemsets = apriori(onehot_df, min_support=0.2, use_colnames=True)\n",
    "# 'min_support=0.2' means that we are only interested in itemsets that appear in at least 20% of the transactions.\n",
    "\n",
    "frequent_itemsets"
   ]
  },
  {
   "cell_type": "code",
   "execution_count": null,
   "id": "b7d7158e-501c-4f6c-bf91-3d21e7cce4e1",
   "metadata": {},
   "outputs": [],
   "source": [
    "# Generate Association Rules\n",
    "rules = association_rules(frequent_itemsets, metric=\"lift\", min_threshold=1)\n",
    "# We use 'lift' as the metric to determine how much more likely two items are to be purchased together compared to random chance.\n",
    "# We use 'min_threshold' to filter the rules to only include those with a lift greater than 1.\n",
    "\n",
    "rules"
   ]
  },
  {
   "cell_type": "code",
   "execution_count": null,
   "id": "6b8e4a9e-5956-424f-8511-18e838cdb82c",
   "metadata": {},
   "outputs": [],
   "source": [
    "import seaborn as sns\n",
    "import matplotlib.pyplot as plt\n",
    "\n",
    "# Sort the rules by lift and select the top 5\n",
    "top_rules = rules.nlargest(5, 'lift')\n",
    "\n",
    "# Plot a bar chart\n",
    "plt.figure(figsize=(10, 6))\n",
    "sns.barplot(x='lift', y=top_rules.index.astype(str), data=top_rules)\n",
    "plt.title('Top 5 Association Rules by Lift')\n",
    "plt.xlabel('Lift')\n",
    "plt.ylabel('Rules')\n",
    "plt.show()"
   ]
  },
  {
   "cell_type": "markdown",
   "id": "13f13d0f-5215-4109-92c4-379ebaf11896",
   "metadata": {},
   "source": [
    "## Market basket optimisation"
   ]
  },
  {
   "cell_type": "code",
   "execution_count": null,
   "id": "bedf9914-f55e-41bb-9bc1-0b0b9e0fcf01",
   "metadata": {},
   "outputs": [],
   "source": [
    "# Load the dataset manually\n",
    "\n",
    "with open(\"Market_Basket_Optimisation.csv\", 'r') as file:\n",
    "    \n",
    "    # Read the file line by line, strip any leading/trailing whitespace, \n",
    "    # and split each line by commas to create a list of items (i.e., a transaction)\n",
    "    data = [line.strip().split(',') for line in file]\n",
    "\n",
    "# Display the first five transactions (each transaction is a list of items)\n",
    "for transaction in data[:5]:\n",
    "    print(transaction)"
   ]
  },
  {
   "cell_type": "code",
   "execution_count": null,
   "id": "8a75b8dd-68bc-4f3f-a935-b5427a02730f",
   "metadata": {},
   "outputs": [],
   "source": [
    "# Create a one-hot encoded DataFrame for the items\n",
    "from mlxtend.preprocessing import TransactionEncoder\n",
    "te = TransactionEncoder()\n",
    "te_data = te.fit(data).transform(data)\n",
    "\n",
    "df = pd.DataFrame(te_data, columns=te.columns_)\n",
    "\n",
    "df"
   ]
  },
  {
   "cell_type": "code",
   "execution_count": null,
   "id": "c0b3eda6-5a19-43d1-8bda-92b8489fb49a",
   "metadata": {},
   "outputs": [],
   "source": [
    "# Set a minimum support value to find frequent itemsets that appear in at least 1% of transactions\n",
    "frequent_itemsets = apriori(df, min_support=0.01, use_colnames=True)\n",
    "\n",
    "# Display the frequent itemsets found\n",
    "frequent_itemsets.head()"
   ]
  },
  {
   "cell_type": "code",
   "execution_count": null,
   "id": "4161cd13-bae2-4aa6-b4f4-29fe8f606b8a",
   "metadata": {},
   "outputs": [],
   "source": [
    "# Now we will use the frequent itemsets to generate association rules.\n",
    "rules = association_rules(frequent_itemsets, metric=\"lift\", min_threshold=1)\n",
    "\n",
    "# Display the first few association rules\n",
    "rules.head()"
   ]
  },
  {
   "cell_type": "code",
   "execution_count": null,
   "id": "f0f330da-15f1-45ab-baf3-e4ea8cb3606c",
   "metadata": {},
   "outputs": [],
   "source": [
    "# We can filter the rules to focus on those with high confidence or lift values.\n",
    "strong_rules = rules[(rules['lift'] > 1.2) & (rules['confidence'] > 0.5)]\n",
    "\n",
    "# Sort the rules by lift, in descending order\n",
    "strong_rules = strong_rules.sort_values(by='lift', ascending=False)\n",
    "\n",
    "# Display the filtered rules\n",
    "strong_rules.head()"
   ]
  },
  {
   "cell_type": "code",
   "execution_count": null,
   "id": "de9028b9-6f3c-485f-adc7-824ccb5b584a",
   "metadata": {},
   "outputs": [],
   "source": [
    "import matplotlib.pyplot as plt\n",
    "import seaborn as sns\n",
    "\n",
    "# Visualize the top 10 rules based on lift\n",
    "plt.figure(figsize=(10, 6))\n",
    "sns.barplot(x=strong_rules['lift'].head(10), y=strong_rules['antecedents'].head(10).astype(str))\n",
    "plt.title('Top 10 Association Rules by Lift')\n",
    "plt.xlabel('Lift')\n",
    "plt.ylabel('Itemset')\n",
    "plt.show()"
   ]
  },
  {
   "cell_type": "code",
   "execution_count": null,
   "id": "8c3f1c2b-4482-4cd5-a094-d8b9a65e5fd1",
   "metadata": {},
   "outputs": [],
   "source": []
  },
  {
   "cell_type": "code",
   "execution_count": null,
   "id": "67e9be3a-e849-4dd0-a24a-e9f9170d0ae1",
   "metadata": {},
   "outputs": [],
   "source": []
  },
  {
   "cell_type": "code",
   "execution_count": null,
   "id": "fe855381-19b0-4000-8bd0-719ba520e202",
   "metadata": {},
   "outputs": [],
   "source": []
  },
  {
   "cell_type": "code",
   "execution_count": null,
   "id": "64f49d80-627c-4e05-886b-17ed7ed43a52",
   "metadata": {},
   "outputs": [],
   "source": []
  }
 ],
 "metadata": {
  "kernelspec": {
   "display_name": "Python 3 (ipykernel)",
   "language": "python",
   "name": "python3"
  },
  "language_info": {
   "codemirror_mode": {
    "name": "ipython",
    "version": 3
   },
   "file_extension": ".py",
   "mimetype": "text/x-python",
   "name": "python",
   "nbconvert_exporter": "python",
   "pygments_lexer": "ipython3",
   "version": "3.10.9"
  }
 },
 "nbformat": 4,
 "nbformat_minor": 5
}
