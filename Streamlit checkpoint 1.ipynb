{
 "cells": [
  {
   "cell_type": "markdown",
   "id": "0900d020-feae-410e-8415-43b928fe68a8",
   "metadata": {
    "id": "0900d020-feae-410e-8415-43b928fe68a8"
   },
   "source": [
    "## Expresso Churn Prediction"
   ]
  },
  {
   "cell_type": "markdown",
   "id": "87068bc9-86ee-47fc-b071-7d054f2c3ee5",
   "metadata": {
    "id": "87068bc9-86ee-47fc-b071-7d054f2c3ee5"
   },
   "source": [
    "In this project, We are going to work on the **'Expresso churn'** dataset that was provided as part of Expresso Churn Prediction Challenge hosted by Zindi platform.\n",
    "\n",
    "**Dataset description:** Expresso is an African telecommunications services company that provides telecommunication services in two African markets: Mauritania and Senegal. The data describes 2.5 million Expresso clients with more than 15 behaviour variables in order to predict the clients' churn probability.\n",
    "\n",
    "➡️ Dataset link\n",
    "\n",
    "https://i.imgur.com/OQKLgVy.png\n",
    "\n",
    "**Instructions**\n",
    "\n",
    "1. Install the necessary packages\n",
    "2. Import you data and perform basic data exploration phase\n",
    "- Display general information about the dataset\n",
    "- Create a pandas profiling reports to gain insights into the dataset\n",
    "- Handle Missing and corrupted values\n",
    "- Remove duplicates, if they exist\n",
    "- Handle outliers, if they exist\n",
    "- Encode categorical features\n",
    "3. Based on the previous data exploration train and test a machine learning classifier\n",
    "4. Create a streamlit application (locally)\n",
    "5. Add input fields for your features and a validation button at the end of the form\n",
    "6. Import your ML model into the streamlit application and start making predictions given the provided features values"
   ]
  },
  {
   "cell_type": "markdown",
   "id": "2b8f8f82-9372-49f7-80fc-fff2fadfc5a9",
   "metadata": {
    "id": "2b8f8f82-9372-49f7-80fc-fff2fadfc5a9"
   },
   "source": [
    "#### Importing necessary libraries"
   ]
  },
  {
   "cell_type": "code",
   "execution_count": null,
   "id": "af5e0899-a7b7-46e7-8408-c3599d60dda8",
   "metadata": {
    "id": "af5e0899-a7b7-46e7-8408-c3599d60dda8"
   },
   "outputs": [],
   "source": [
    "# Suppress warnings for cleaner output\n",
    "import warnings\n",
    "warnings.filterwarnings('ignore')"
   ]
  },
  {
   "cell_type": "code",
   "execution_count": null,
   "id": "aa59b98b-6fc5-49dc-8a95-7d93e315e3dc",
   "metadata": {
    "id": "aa59b98b-6fc5-49dc-8a95-7d93e315e3dc"
   },
   "outputs": [],
   "source": [
    "import pandas as pd\n",
    "import numpy as np\n",
    "import seaborn as sns\n",
    "import matplotlib.pyplot as plt\n",
    "\n",
    "from sklearn.model_selection import train_test_split\n",
    "from sklearn.preprocessing import StandardScaler\n",
    "from sklearn.metrics import classification_report, confusion_matrix, accuracy_score"
   ]
  },
  {
   "cell_type": "markdown",
   "id": "7c9af899-c8fb-4dc3-90ae-3cd748c75a72",
   "metadata": {
    "id": "7c9af899-c8fb-4dc3-90ae-3cd748c75a72"
   },
   "source": [
    "#### Loading the dataset"
   ]
  },
  {
   "cell_type": "code",
   "execution_count": null,
   "id": "da218a8d-ddac-4b19-8d70-069477ab166b",
   "metadata": {
    "id": "da218a8d-ddac-4b19-8d70-069477ab166b"
   },
   "outputs": [],
   "source": [
    "df = pd.read_csv(\"Expresso_churn_dataset.csv\")"
   ]
  },
  {
   "cell_type": "code",
   "execution_count": null,
   "id": "c6e50101-5ce0-4c5f-bec3-a96fbf060ce3",
   "metadata": {
    "colab": {
     "base_uri": "https://localhost:8080/",
     "height": 313
    },
    "id": "c6e50101-5ce0-4c5f-bec3-a96fbf060ce3",
    "outputId": "44bcd012-5095-4915-ac16-1ffb18159c5b"
   },
   "outputs": [],
   "source": [
    "df.head()"
   ]
  },
  {
   "cell_type": "code",
   "execution_count": null,
   "id": "2579ebc3-1e6f-4385-9e1b-e5b76dfe1a6d",
   "metadata": {
    "colab": {
     "base_uri": "https://localhost:8080/"
    },
    "id": "2579ebc3-1e6f-4385-9e1b-e5b76dfe1a6d",
    "outputId": "b2555f6f-4239-48d7-f829-62a473b2cc76"
   },
   "outputs": [],
   "source": [
    "df.shape"
   ]
  },
  {
   "cell_type": "markdown",
   "id": "f97866d2-78ec-4e42-a7cb-1dca3988511c",
   "metadata": {
    "id": "f97866d2-78ec-4e42-a7cb-1dca3988511c"
   },
   "source": [
    "#### Sampling the dataset"
   ]
  },
  {
   "cell_type": "code",
   "execution_count": null,
   "id": "61bab576-1bb2-41fe-8d14-96ddc6f3430d",
   "metadata": {
    "id": "61bab576-1bb2-41fe-8d14-96ddc6f3430d"
   },
   "outputs": [],
   "source": [
    "# Sample 50000 random rows from the cleaned DataFrame\n",
    "df_sampled = df.sample(n=50000, random_state=42)"
   ]
  },
  {
   "cell_type": "markdown",
   "id": "05be5180-83b3-47cd-9102-01965745638c",
   "metadata": {
    "id": "05be5180-83b3-47cd-9102-01965745638c"
   },
   "source": [
    "#### Overview of the dataset"
   ]
  },
  {
   "cell_type": "code",
   "execution_count": null,
   "id": "369aa917-55b5-4a3f-82d2-94f02b618974",
   "metadata": {
    "colab": {
     "base_uri": "https://localhost:8080/",
     "height": 330
    },
    "id": "369aa917-55b5-4a3f-82d2-94f02b618974",
    "outputId": "d0a286f1-2b92-4dce-cfa2-31f94414854b"
   },
   "outputs": [],
   "source": [
    "df_sampled.head()"
   ]
  },
  {
   "cell_type": "code",
   "execution_count": null,
   "id": "10f363d2-b499-4936-946e-849bdf0f4f86",
   "metadata": {
    "colab": {
     "base_uri": "https://localhost:8080/"
    },
    "id": "10f363d2-b499-4936-946e-849bdf0f4f86",
    "outputId": "b08c02cc-e0d3-4364-9900-bb8f3a615f8b"
   },
   "outputs": [],
   "source": [
    "df_sampled.shape"
   ]
  },
  {
   "cell_type": "code",
   "execution_count": null,
   "id": "f5dc38f0-f354-4d12-af52-4e6f01c00e3e",
   "metadata": {
    "colab": {
     "base_uri": "https://localhost:8080/"
    },
    "id": "f5dc38f0-f354-4d12-af52-4e6f01c00e3e",
    "outputId": "32351ed5-72e1-4503-8929-1d8bc9014d3a"
   },
   "outputs": [],
   "source": [
    "df_sampled.info()"
   ]
  },
  {
   "cell_type": "markdown",
   "id": "cd638adc-004c-415c-a8ed-9ca050f75063",
   "metadata": {
    "id": "cd638adc-004c-415c-a8ed-9ca050f75063"
   },
   "source": [
    "#### Summary Statistics"
   ]
  },
  {
   "cell_type": "code",
   "execution_count": null,
   "id": "60d68cd1-5aef-42b8-ab84-06b1b04f5818",
   "metadata": {
    "colab": {
     "base_uri": "https://localhost:8080/",
     "height": 320
    },
    "id": "60d68cd1-5aef-42b8-ab84-06b1b04f5818",
    "outputId": "fc627315-ac9d-4e85-fa8b-28570f17bf87"
   },
   "outputs": [],
   "source": [
    "df_sampled.describe()"
   ]
  },
  {
   "cell_type": "markdown",
   "id": "870602df-2470-489d-83f6-6f606f144433",
   "metadata": {
    "id": "870602df-2470-489d-83f6-6f606f144433"
   },
   "source": [
    "#### Checking for missing values and duplicates"
   ]
  },
  {
   "cell_type": "code",
   "execution_count": null,
   "id": "7508df72-98fa-4290-8e28-1b1f898b4e51",
   "metadata": {
    "colab": {
     "base_uri": "https://localhost:8080/",
     "height": 680
    },
    "id": "7508df72-98fa-4290-8e28-1b1f898b4e51",
    "outputId": "71398e0f-bdcc-4223-fab9-85a74053aac3"
   },
   "outputs": [],
   "source": [
    "df_sampled.isnull().sum()"
   ]
  },
  {
   "cell_type": "markdown",
   "id": "b77e831e-cbbf-41ae-a9ac-f5569a5eb4b9",
   "metadata": {
    "id": "b77e831e-cbbf-41ae-a9ac-f5569a5eb4b9"
   },
   "source": [
    "##### Replacing missing values"
   ]
  },
  {
   "cell_type": "code",
   "execution_count": null,
   "id": "3f595148-bb9c-4ecb-b590-553e739005a9",
   "metadata": {
    "id": "3f595148-bb9c-4ecb-b590-553e739005a9"
   },
   "outputs": [],
   "source": [
    "df_sampled['MONTANT'].fillna(df_sampled['MONTANT'].median(), inplace=True)\n",
    "df_sampled['FREQUENCE_RECH'].fillna(df_sampled['FREQUENCE_RECH'].median(), inplace=True)\n",
    "df_sampled['REVENUE'].fillna(df_sampled['REVENUE'].median(), inplace=True)\n",
    "df_sampled['ARPU_SEGMENT'].fillna(df_sampled['ARPU_SEGMENT'].median(), inplace=True)\n",
    "df_sampled['FREQUENCE'].fillna(df_sampled['FREQUENCE'].median(), inplace=True)\n",
    "df_sampled['DATA_VOLUME'].fillna(df_sampled['DATA_VOLUME'].median(), inplace=True)\n",
    "df_sampled['ON_NET'].fillna(df_sampled['ON_NET'].median(), inplace=True)\n",
    "df_sampled['ORANGE'].fillna(df_sampled['ORANGE'].median(), inplace=True)\n",
    "df_sampled['TIGO'].fillna(df_sampled['TIGO'].median(), inplace=True)\n",
    "df_sampled['ZONE1'].fillna(df_sampled['ZONE1'].median(), inplace=True)\n",
    "df_sampled['ZONE2'].fillna(df_sampled['ZONE2'].median(), inplace=True)\n",
    "df_sampled['FREQ_TOP_PACK'].fillna(df_sampled['FREQ_TOP_PACK'].median(), inplace=True)"
   ]
  },
  {
   "cell_type": "code",
   "execution_count": null,
   "id": "a49702ac-d77b-43d1-95d9-1429ead4587c",
   "metadata": {
    "id": "a49702ac-d77b-43d1-95d9-1429ead4587c"
   },
   "outputs": [],
   "source": [
    "# Replace missing values for categorical columns with the mode\n",
    "df_sampled['REGION'].fillna(df_sampled['REGION'].mode()[0], inplace=True)\n",
    "df_sampled['TOP_PACK'].fillna(df_sampled['TOP_PACK'].mode()[0], inplace=True)\n"
   ]
  },
  {
   "cell_type": "code",
   "execution_count": null,
   "id": "7b867eeb-5378-4848-a6f8-a484fbe2e1fc",
   "metadata": {
    "colab": {
     "base_uri": "https://localhost:8080/",
     "height": 680
    },
    "id": "7b867eeb-5378-4848-a6f8-a484fbe2e1fc",
    "outputId": "473f3677-4465-4bb1-b25a-15dde14829db"
   },
   "outputs": [],
   "source": [
    "df_sampled.isnull().sum()"
   ]
  },
  {
   "cell_type": "code",
   "execution_count": null,
   "id": "f6fd21b6-b948-4817-8dec-fc9944849648",
   "metadata": {
    "colab": {
     "base_uri": "https://localhost:8080/"
    },
    "id": "f6fd21b6-b948-4817-8dec-fc9944849648",
    "outputId": "043de83b-3b4c-4528-e6d0-e21a797ff7d8"
   },
   "outputs": [],
   "source": [
    "df_sampled.duplicated().sum()"
   ]
  },
  {
   "cell_type": "markdown",
   "id": "5860c675-e19f-40fa-ba89-1326580af7f2",
   "metadata": {
    "id": "5860c675-e19f-40fa-ba89-1326580af7f2"
   },
   "source": [
    "no duplicates in the dataset cool!"
   ]
  },
  {
   "cell_type": "markdown",
   "id": "b36a9d96-5935-4b50-bd7a-34c9a11df4d8",
   "metadata": {
    "id": "b36a9d96-5935-4b50-bd7a-34c9a11df4d8"
   },
   "source": [
    "###### Churn Distribution Across Region"
   ]
  },
  {
   "cell_type": "code",
   "execution_count": null,
   "id": "70b478f3-afba-4162-99c6-708272ddca81",
   "metadata": {
    "colab": {
     "base_uri": "https://localhost:8080/",
     "height": 295
    },
    "id": "70b478f3-afba-4162-99c6-708272ddca81",
    "outputId": "14739312-0a4f-4bb5-c543-2cde42d5d05b"
   },
   "outputs": [],
   "source": [
    "plt.figure(figsize=(18, 5))\n",
    "sns.boxplot(x='REGION', y='CHURN', data=df_sampled)\n",
    "plt.title('Churn Distribution Across Region')\n",
    "plt.xticks(rotation=45)\n",
    "plt.show()\n"
   ]
  },
  {
   "cell_type": "markdown",
   "id": "1ae653c6-2edf-45a0-b115-86e15a7f5ce4",
   "metadata": {
    "id": "1ae653c6-2edf-45a0-b115-86e15a7f5ce4"
   },
   "source": [
    "###### plot features against CHURN and identify data points that are far away from the bulk of the data."
   ]
  },
  {
   "cell_type": "code",
   "execution_count": null,
   "id": "a61fda27-787a-421f-a0a4-d31d4b85b989",
   "metadata": {
    "colab": {
     "base_uri": "https://localhost:8080/",
     "height": 449
    },
    "id": "a61fda27-787a-421f-a0a4-d31d4b85b989",
    "outputId": "3e63eef6-98ce-45b8-b54e-d891b2381dc6"
   },
   "outputs": [],
   "source": [
    "sns.scatterplot(x='REVENUE', y='MONTANT', data=df_sampled, hue='CHURN')\n",
    "plt.show()"
   ]
  },
  {
   "cell_type": "code",
   "execution_count": null,
   "id": "6a761cda-30c7-46b2-b2cc-6be172879d8a",
   "metadata": {
    "colab": {
     "base_uri": "https://localhost:8080/",
     "height": 635
    },
    "id": "6a761cda-30c7-46b2-b2cc-6be172879d8a",
    "outputId": "80fbe076-996d-42fe-9e56-0d5695409ad1"
   },
   "outputs": [],
   "source": [
    "from scipy import stats\n",
    "z_scores = stats.zscore(df_sampled['MONTANT'])\n",
    "df_sampled[(z_scores > 3) | (z_scores < -3)]\n"
   ]
  },
  {
   "cell_type": "markdown",
   "id": "ab0f6093-5bb9-433a-9d8f-f7650e4e10fe",
   "metadata": {
    "id": "ab0f6093-5bb9-433a-9d8f-f7650e4e10fe"
   },
   "source": [
    "All users with these outlier MONTANT values have not churned (CHURN = 0). This may suggest that higher MONTANT values are correlated with retention."
   ]
  },
  {
   "cell_type": "code",
   "execution_count": null,
   "id": "444aff6e-4270-47f6-b823-337acc0979e3",
   "metadata": {
    "colab": {
     "base_uri": "https://localhost:8080/",
     "height": 554
    },
    "id": "444aff6e-4270-47f6-b823-337acc0979e3",
    "outputId": "c8f55134-b432-4689-9598-d3cc327d6da3"
   },
   "outputs": [],
   "source": [
    "df_sampled['REGION'].value_counts()"
   ]
  },
  {
   "cell_type": "code",
   "execution_count": null,
   "id": "54c025c7-41d8-485e-98a2-7ce2c3ec3ab8",
   "metadata": {
    "colab": {
     "base_uri": "https://localhost:8080/",
     "height": 366
    },
    "id": "54c025c7-41d8-485e-98a2-7ce2c3ec3ab8",
    "outputId": "6051c5f3-e7dc-4e73-e659-d8f61b15f0d8",
    "scrolled": true
   },
   "outputs": [],
   "source": [
    "df_sampled['TENURE'].value_counts()"
   ]
  },
  {
   "cell_type": "code",
   "execution_count": null,
   "id": "755504b2-8d78-48aa-b21d-c39149978fc6",
   "metadata": {
    "id": "755504b2-8d78-48aa-b21d-c39149978fc6"
   },
   "outputs": [],
   "source": [
    "# Mean encoding for TENURE based on REVENUE\n",
    "mean_encoded = df_sampled.groupby('TENURE')['REVENUE'].mean()\n",
    "df_sampled['TENURE_encoded'] = df_sampled['TENURE'].map(mean_encoded)"
   ]
  },
  {
   "cell_type": "code",
   "execution_count": null,
   "id": "5a783d13-b58b-4069-a774-fc210017122b",
   "metadata": {
    "colab": {
     "base_uri": "https://localhost:8080/",
     "height": 147
    },
    "id": "5a783d13-b58b-4069-a774-fc210017122b",
    "outputId": "475d3443-c45d-436a-806e-4e06e4a1312a"
   },
   "outputs": [],
   "source": [
    "df_sampled.head()"
   ]
  },
  {
   "cell_type": "code",
   "execution_count": null,
   "id": "e61f785a-d264-4a06-a201-2db42584f72e",
   "metadata": {
    "id": "e61f785a-d264-4a06-a201-2db42584f72e"
   },
   "outputs": [],
   "source": [
    "# Selecting only numeric columns for correlation\n",
    "numeric_df = df_sampled.select_dtypes(include=[float, int])\n",
    "correlation_matrix = numeric_df.corr()"
   ]
  },
  {
   "cell_type": "code",
   "execution_count": null,
   "id": "bfe9789f-e812-4776-bff9-7facc77aae26",
   "metadata": {
    "colab": {
     "base_uri": "https://localhost:8080/",
     "height": 540
    },
    "id": "bfe9789f-e812-4776-bff9-7facc77aae26",
    "outputId": "d8b2e4da-75d8-41af-fa76-76faae9e609e"
   },
   "outputs": [],
   "source": [
    "correlation_matrix"
   ]
  },
  {
   "cell_type": "code",
   "execution_count": null,
   "id": "a3130cac-e58c-47ae-9934-745a56a9b1c3",
   "metadata": {
    "colab": {
     "base_uri": "https://localhost:8080/",
     "height": 602
    },
    "id": "a3130cac-e58c-47ae-9934-745a56a9b1c3",
    "outputId": "5d901cba-ecb4-43c2-adf6-817988b81635"
   },
   "outputs": [],
   "source": [
    "# Plotting the correlation matrix\n",
    "plt.figure(figsize=(12, 8))\n",
    "sns.heatmap(correlation_matrix, annot=True, cmap='coolwarm', fmt='.2f')\n",
    "plt.title('Correlation Matrix')\n",
    "plt.show()"
   ]
  },
  {
   "cell_type": "markdown",
   "id": "20339935-9e75-4901-9b5d-3e8b3a3580ec",
   "metadata": {
    "id": "20339935-9e75-4901-9b5d-3e8b3a3580ec"
   },
   "source": [
    "### Modelling"
   ]
  },
  {
   "cell_type": "markdown",
   "id": "ae78de41-18c1-465b-8971-235ff395dada",
   "metadata": {
    "id": "ae78de41-18c1-465b-8971-235ff395dada"
   },
   "source": [
    "Selecting my features and splitting the data into training and test sets"
   ]
  },
  {
   "cell_type": "code",
   "execution_count": null,
   "id": "02387c7f-a765-42b7-b91c-24075e19a397",
   "metadata": {
    "id": "02387c7f-a765-42b7-b91c-24075e19a397"
   },
   "outputs": [],
   "source": [
    "# Split features (X) and target (y)\n",
    "X = df_sampled.drop(columns=[ \"CHURN\", \"TOP_PACK\", \"MRG\", \"user_id\", \"REGION\", \"TENURE\"])\n",
    "y = df_sampled['CHURN']\n",
    "\n",
    "# Splitting the data into training and test sets\n",
    "X_train, X_test, y_train, y_test = train_test_split(X, y, test_size=0.2, random_state=42)"
   ]
  },
  {
   "cell_type": "code",
   "execution_count": null,
   "id": "87140fec-4084-4a58-b7c6-fad5b355b521",
   "metadata": {
    "colab": {
     "base_uri": "https://localhost:8080/"
    },
    "id": "87140fec-4084-4a58-b7c6-fad5b355b521",
    "outputId": "58147c70-b1d6-4dd9-a7b1-176fb08177fc"
   },
   "outputs": [],
   "source": [
    "print(X_train.columns)"
   ]
  },
  {
   "cell_type": "markdown",
   "id": "70419f5c-8ab5-4ce1-ac88-61c451079e3e",
   "metadata": {
    "id": "70419f5c-8ab5-4ce1-ac88-61c451079e3e"
   },
   "source": [
    "Scaling my data to ensure that each feature contributes equally to the distance calculations or the optimization process."
   ]
  },
  {
   "cell_type": "code",
   "execution_count": null,
   "id": "17b61652-6c9f-4bf4-af1c-0d3af12248af",
   "metadata": {
    "id": "17b61652-6c9f-4bf4-af1c-0d3af12248af"
   },
   "outputs": [],
   "source": [
    "# Create a StandardScaler instance\n",
    "scaler = StandardScaler()\n",
    "\n",
    "# Fit and transform the training data\n",
    "X_train_scaled = scaler.fit_transform(X_train)\n",
    "\n",
    "# Transform the test data\n",
    "X_test_scaled = scaler.transform(X_test)"
   ]
  },
  {
   "cell_type": "markdown",
   "id": "525da017-bd3d-4814-9142-eda24e9c797b",
   "metadata": {
    "id": "525da017-bd3d-4814-9142-eda24e9c797b"
   },
   "source": [
    "#### Random Forest Classifier"
   ]
  },
  {
   "cell_type": "code",
   "execution_count": null,
   "id": "c250cfe5-3c5e-440c-a765-322e1b0236d9",
   "metadata": {
    "id": "c250cfe5-3c5e-440c-a765-322e1b0236d9"
   },
   "outputs": [],
   "source": [
    "from sklearn.ensemble import RandomForestClassifier"
   ]
  },
  {
   "cell_type": "code",
   "execution_count": null,
   "id": "dbd65e5e-43bd-4c35-a915-d2aa1c4cd26b",
   "metadata": {
    "colab": {
     "base_uri": "https://localhost:8080/",
     "height": 80
    },
    "id": "dbd65e5e-43bd-4c35-a915-d2aa1c4cd26b",
    "outputId": "7bde80cb-a9e9-46fc-deae-a9b4f11724c6"
   },
   "outputs": [],
   "source": [
    "rf_classifier = RandomForestClassifier(class_weight='balanced')\n",
    "\n",
    "# Fit the model to the training data\n",
    "rf_classifier.fit(X_train_scaled, y_train)"
   ]
  },
  {
   "cell_type": "code",
   "execution_count": null,
   "id": "f2997952-2c8e-4cb5-a3d0-3d0392088923",
   "metadata": {
    "colab": {
     "base_uri": "https://localhost:8080/"
    },
    "id": "f2997952-2c8e-4cb5-a3d0-3d0392088923",
    "outputId": "62a3d5f3-8042-4214-9b74-897202bdbdd1"
   },
   "outputs": [],
   "source": [
    "# Make predictions\n",
    "y_pred = rf_classifier.predict(X_test_scaled)\n",
    "\n",
    "# Evaluate the model\n",
    "print(\"Accuracy Score:\")\n",
    "print(accuracy_score(y_test, y_pred))\n",
    "\n",
    "print(\"Classification Report:\")\n",
    "print(classification_report(y_test, y_pred))\n",
    "\n",
    "print(\"Confusion Matrix:\")\n",
    "print(confusion_matrix(y_test, y_pred))"
   ]
  },
  {
   "cell_type": "code",
   "execution_count": null,
   "id": "17a4a41a-d9af-4238-ae08-53ef32b03136",
   "metadata": {
    "colab": {
     "base_uri": "https://localhost:8080/",
     "height": 394
    },
    "id": "17a4a41a-d9af-4238-ae08-53ef32b03136",
    "outputId": "226be948-e94f-47c6-cd1a-587f622155d6"
   },
   "outputs": [],
   "source": [
    "# Feature Importance\n",
    "import matplotlib.pyplot as plt\n",
    "\n",
    "feature_importances = rf_classifier.feature_importances_\n",
    "features = X.columns\n",
    "importance_df = pd.DataFrame({'Feature': features, 'Importance': feature_importances})\n",
    "importance_df = importance_df.sort_values(by='Importance', ascending=False)\n",
    "\n",
    "# Plotting\n",
    "plt.figure(figsize=(12, 6))\n",
    "plt.barh(importance_df['Feature'], importance_df['Importance'])\n",
    "plt.xlabel('Importance')\n",
    "plt.title('Feature Importance in the Random Forest Classifier')\n",
    "plt.show()"
   ]
  },
  {
   "cell_type": "markdown",
   "id": "11825f0a-9009-4670-8413-249f0b203bb8",
   "metadata": {},
   "source": [
    "Based on the feature Importance my new feature would be"
   ]
  },
  {
   "cell_type": "markdown",
   "id": "85ea42b1-aed6-4731-bdb1-c6f08e194a8a",
   "metadata": {
    "id": "j3AkSk6Ewqto"
   },
   "source": [
    "'FREQUENCE_RECH', 'REVENUE', 'FREQUENCE', 'DATA_VOLUME', 'ON_NET', 'ORANGE', 'REGULARITY', 'FREQ_TOP_PACK'"
   ]
  },
  {
   "cell_type": "markdown",
   "id": "07780a2b-feae-4c1c-9cb9-b0c44763db8c",
   "metadata": {},
   "source": [
    "### Light Gradient Boosting(LGBM)"
   ]
  },
  {
   "cell_type": "code",
   "execution_count": null,
   "id": "O6ylh9QcwqiQ",
   "metadata": {
    "id": "O6ylh9QcwqiQ"
   },
   "outputs": [],
   "source": [
    "import lightgbm as lgb\n",
    "from lightgbm import LGBMClassifier"
   ]
  },
  {
   "cell_type": "code",
   "execution_count": null,
   "id": "M2Ip37mMwqeY",
   "metadata": {
    "id": "M2Ip37mMwqeY"
   },
   "outputs": [],
   "source": [
    "X = df_sampled[['FREQUENCE_RECH', 'REVENUE', 'FREQUENCE', 'DATA_VOLUME', 'ON_NET', 'ORANGE', 'REGULARITY', 'FREQ_TOP_PACK']]\n",
    "y = df_sampled['CHURN']\n",
    "\n",
    "# Train-test split\n",
    "X_train, X_test, y_train, y_test = train_test_split(X, y, test_size=0.2, random_state=42)"
   ]
  },
  {
   "cell_type": "code",
   "execution_count": null,
   "id": "dvfQ3N9iwqWp",
   "metadata": {
    "id": "dvfQ3N9iwqWp"
   },
   "outputs": [],
   "source": [
    "lgbm_model = LGBMClassifier(n_estimators=100, early_stopping_rounds=10, eval_metric='auc', verbose=1)\n",
    "# Fit the model\n",
    "lgbm_model.fit(X_train, y_train, eval_set=[(X_test, y_test)], eval_metric='auc')"
   ]
  },
  {
   "cell_type": "code",
   "execution_count": null,
   "id": "ddea93cf-2a0c-45c5-b88d-bbc7572c3625",
   "metadata": {},
   "outputs": [],
   "source": [
    "# Make predictions\n",
    "y_pred = lgbm_model.predict_proba(X_test)[:, 1]  # Get probabilities for the positive class\n",
    "y_pred_binary = [1 if x >= 0.5 else 0 for x in y_pred]"
   ]
  },
  {
   "cell_type": "code",
   "execution_count": null,
   "id": "uSjbidNnwqJX",
   "metadata": {
    "id": "uSjbidNnwqJX"
   },
   "outputs": [],
   "source": [
    "# Evaluate\n",
    "accuracy = accuracy_score(y_test, y_pred_binary)\n",
    "print(f'Accuracy: {accuracy:.2f}')\n",
    "\n",
    "print(\"Classification Report:\")\n",
    "print(classification_report(y_test, y_pred_binary))\n",
    "\n",
    "print(\"Confusion Matrix:\")\n",
    "print(confusion_matrix(y_test, y_pred_binary))"
   ]
  },
  {
   "cell_type": "markdown",
   "id": "65f9e0d0-2056-4657-826f-990f03217f09",
   "metadata": {},
   "source": [
    "### Logistic Regression"
   ]
  },
  {
   "cell_type": "code",
   "execution_count": null,
   "id": "f6e1f78c-4e7d-4b5d-9185-c26eca3f83c3",
   "metadata": {},
   "outputs": [],
   "source": [
    "from sklearn.linear_model import LogisticRegression"
   ]
  },
  {
   "cell_type": "code",
   "execution_count": null,
   "id": "65143318-282a-4f3e-a434-3ee25e5cf276",
   "metadata": {},
   "outputs": [],
   "source": [
    "log_model= LogisticRegression(penalty = 'l1', C = 0.5, solver = 'liblinear')\n",
    "log_model.fit(X_train,y_train)"
   ]
  },
  {
   "cell_type": "code",
   "execution_count": null,
   "id": "7e5644e7-8307-4188-89de-e0806a63b898",
   "metadata": {},
   "outputs": [],
   "source": [
    "logy_pred = log_model.predict(X_test)"
   ]
  },
  {
   "cell_type": "code",
   "execution_count": null,
   "id": "4193b335-6e51-4b27-80f4-3a1e9b81967e",
   "metadata": {},
   "outputs": [],
   "source": [
    "ACC = accuracy_score(logy_pred, y_test)\n",
    "conf_mat = confusion_matrix(logy_pred, y_test)\n",
    "class_report = classification_report(logy_pred, y_test)\n",
    "print(ACC)\n",
    "print(conf_mat)\n",
    "print(class_report)"
   ]
  },
  {
   "cell_type": "markdown",
   "id": "95c9b20a-3c7d-4bf4-9e70-9e89373857e2",
   "metadata": {},
   "source": [
    "##### LightGBM stands out as the best model overall based on my results. Here's why:\n",
    "\n",
    "Accuracy: LightGBM has the highest accuracy (0.87), meaning it predicts both classes better overall.\n",
    "\n",
    "Precision (Class 1): LightGBM also has the highest precision (0.69) for class 1, meaning it minimizes false positives better than the other models.\n",
    "\n",
    "Balanced Performance: Although its recall (0.55) for class 1 is lower than Random Forest (0.75), it still provides a good balance between precision and recall, which is often desirable in many real-world cases where both overpredicting and underpredicting are costly.\n",
    "\n",
    "Training Efficiency: LightGBM is also more efficient when it comes to training time and scaling to larger datasets, which can be beneficial as my project expands."
   ]
  },
  {
   "cell_type": "markdown",
   "id": "db50e1cc-77f9-4ce7-b66c-af405b60ea17",
   "metadata": {},
   "source": [
    "### saving my model"
   ]
  },
  {
   "cell_type": "code",
   "execution_count": null,
   "id": "40d6c0dd-5f30-4c99-b286-111d03d908bc",
   "metadata": {},
   "outputs": [],
   "source": [
    "import joblib"
   ]
  },
  {
   "cell_type": "code",
   "execution_count": null,
   "id": "86d7c6ef-76e3-4bf5-86da-7bd13c3cd4d2",
   "metadata": {},
   "outputs": [],
   "source": [
    "joblib.dump(lgbm_model, 'expressoModel.pkl')"
   ]
  },
  {
   "cell_type": "markdown",
   "id": "c8aa99ff",
   "metadata": {},
   "source": [
    "### Create The Streamlit App"
   ]
  },
  {
   "cell_type": "code",
   "execution_count": null,
   "id": "3f2d9cfc-b469-4388-ac1d-5b8fd5d4160c",
   "metadata": {},
   "outputs": [],
   "source": [
    "# Create the file Expresso_Churn_Prediction_Streamlit_App.py in write mode\n",
    "with open(\"Expresso_Churn_Prediction_Streamlit_App.py\", \"w\") as file:\n",
    "    # Writing the Streamlit code into the file\n",
    "    file.write(\"\"\"\n",
    "# Import necessary libraries\n",
    "import streamlit as st\n",
    "import pandas as pd\n",
    "import joblib\n",
    "\n",
    "# Load the pre-trained model\n",
    "model = joblib.load(\"expressoModel.pkl\")  \n",
    "\n",
    "# Set up the Streamlit app\n",
    "st.title('Expresso Client Churn Prediction')\n",
    "st.write(\"This app predicts the churn probability for Expresso clients based on their behavior.\")\n",
    "\n",
    "\n",
    "# Input fields for user to enter feature values\n",
    "frequence_rech = st.number_input('Recharge Frequency (FREQUENCE_RECH)', min_value=1.0, max_value=114.0, value=11.44, step=1.0)\n",
    "revenue = st.number_input('Revenue (REVENUE)', min_value=1.0, max_value=165166.0, value= 5454.27, step=0.1)\n",
    "frequence = st.number_input('Frequency of usage (FREQUENCE)', min_value=1.0, max_value=91.0,value = 13.88, step=1.0)\n",
    "data_volume = st.number_input('Data Volume (DATA_VOLUME)', min_value=0.0, max_value=560933.0,value = 3165.06, step=0.1)\n",
    "on_net = st.number_input('On Net Usage (ON_NET)', min_value=0.0, max_value=20837.0,value = 272.18, step=1.0)\n",
    "orange = st.number_input('Orange Network Usage (ORANGE)', min_value=0.0, max_value=4743.0, value = 96.23, step=1.0)\n",
    "regularity = st.number_input('Regularity of usage (REGULARITY)', min_value=0.0, max_value=1346.0, value=7.93, step=1.0)\n",
    "freq_top_pack = st.number_input('Frequency of Top Pack (FREQ_TOP_PACK)', min_value=1.0, max_value=320.0, value=9.20, step=1.0)\n",
    "\n",
    "# Create a dictionary with the input data\n",
    "input_data = {\n",
    "    'FREQUENCE_RECH': frequence_rech,\n",
    "    'REVENUE': revenue,\n",
    "    'FREQUENCE': frequence,\n",
    "    'DATA_VOLUME': data_volume,\n",
    "    'ON_NET': on_net,\n",
    "    'ORANGE': orange,\n",
    "    'REGULARITY': regularity,\n",
    "    'FREQ_TOP_PACK': freq_top_pack\n",
    "}\n",
    "\n",
    "# Convert the dictionary to a DataFrame\n",
    "input_df = pd.DataFrame([input_data])\n",
    "\n",
    "# Predict churn probability using the loaded model\n",
    "if st.button('Predict Churn Probability'):\n",
    "    prediction = model.predict_proba(input_df)[:, 1]  # Probability of churn\n",
    "    churn_probability = round(prediction[0] * 100, 2)\n",
    "    st.write(f\"The predicted churn probability is {churn_probability}%\")\n",
    "\n",
    "# Option to display input data\n",
    "if st.checkbox('Show Input Data'):\n",
    "    st.write(input_df)\n",
    "\n",
    "\"\"\")"
   ]
  },
  {
   "cell_type": "code",
   "execution_count": null,
   "id": "b430f4ea-414c-4080-a155-66c381d8bb39",
   "metadata": {},
   "outputs": [],
   "source": []
  },
  {
   "cell_type": "code",
   "execution_count": null,
   "id": "9050dc63-e22b-4f6b-83bd-b23ba38f0f87",
   "metadata": {},
   "outputs": [],
   "source": []
  },
  {
   "cell_type": "code",
   "execution_count": null,
   "id": "61f1ce87-3948-462b-8065-73303963ae6c",
   "metadata": {},
   "outputs": [],
   "source": []
  }
 ],
 "metadata": {
  "accelerator": "TPU",
  "colab": {
   "gpuType": "V28",
   "provenance": []
  },
  "kernelspec": {
   "display_name": "Python 3 (ipykernel)",
   "language": "python",
   "name": "python3"
  },
  "language_info": {
   "codemirror_mode": {
    "name": "ipython",
    "version": 3
   },
   "file_extension": ".py",
   "mimetype": "text/x-python",
   "name": "python",
   "nbconvert_exporter": "python",
   "pygments_lexer": "ipython3",
   "version": "3.10.9"
  }
 },
 "nbformat": 4,
 "nbformat_minor": 5
}
