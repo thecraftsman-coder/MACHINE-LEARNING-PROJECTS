{
 "cells": [
  {
   "cell_type": "markdown",
   "id": "pgxjQHlIvzMN",
   "metadata": {
    "id": "pgxjQHlIvzMN"
   },
   "source": [
    "## Fashion Clothes Classification with Artificial Neural Network"
   ]
  },
  {
   "cell_type": "markdown",
   "id": "de943008-92e5-4e72-b7d1-fd6295ad4dac",
   "metadata": {
    "id": "de943008-92e5-4e72-b7d1-fd6295ad4dac"
   },
   "source": [
    "In this project, we will implement and train a feed-forward neural network (also known as an \"MLP\" for \"multi-layer perceptron\") on a dataset called **\"Fashion MNIST\"**, which consist of small greyscale images of items of fashion."
   ]
  },
  {
   "cell_type": "markdown",
   "id": "cd8d5a4d-54fa-47cd-98ec-57e58d6aaa22",
   "metadata": {
    "id": "cd8d5a4d-54fa-47cd-98ec-57e58d6aaa22"
   },
   "source": [
    "#### Importing necessary libraries"
   ]
  },
  {
   "cell_type": "code",
   "execution_count": null,
   "id": "95bd6ea3-ab4a-433c-82f9-4869df25afd7",
   "metadata": {
    "id": "95bd6ea3-ab4a-433c-82f9-4869df25afd7"
   },
   "outputs": [],
   "source": [
    "from __future__ import print_function\n",
    "\n",
    "import keras\n",
    "from keras.datasets import fashion_mnist\n",
    "from keras.models import Sequential\n",
    "from keras.layers import Dense, Dropout\n",
    "from keras.optimizers import RMSprop\n",
    "import numpy as np\n",
    "import matplotlib.pyplot as plt\n",
    "import tensorflow as tf"
   ]
  },
  {
   "cell_type": "markdown",
   "id": "DOIV8cQdk3Pi",
   "metadata": {
    "id": "DOIV8cQdk3Pi"
   },
   "source": [
    "#### Loading my dataset"
   ]
  },
  {
   "cell_type": "code",
   "execution_count": null,
   "id": "e2de9f8a-7941-4e71-9d1f-07d42c384c4e",
   "metadata": {
    "colab": {
     "base_uri": "https://localhost:8080/"
    },
    "id": "e2de9f8a-7941-4e71-9d1f-07d42c384c4e",
    "outputId": "8bcd58e3-e21d-4c21-b264-eee2dc7632cf"
   },
   "outputs": [],
   "source": [
    "data = fashion_mnist.load_data()"
   ]
  },
  {
   "cell_type": "markdown",
   "id": "wFJVQEUzlJ7h",
   "metadata": {
    "id": "wFJVQEUzlJ7h"
   },
   "source": [
    "#### Splitting my data into Train, Validation and Test"
   ]
  },
  {
   "cell_type": "code",
   "execution_count": null,
   "id": "03259345-fd0b-478e-be17-4e1232befe09",
   "metadata": {
    "id": "03259345-fd0b-478e-be17-4e1232befe09"
   },
   "outputs": [],
   "source": [
    "(train_and_validation_images, train_and_validation_labels), (test_images, test_labels) = data"
   ]
  },
  {
   "cell_type": "code",
   "execution_count": null,
   "id": "84007088-8d9c-4770-9446-87e6c52e6234",
   "metadata": {
    "id": "84007088-8d9c-4770-9446-87e6c52e6234"
   },
   "outputs": [],
   "source": [
    "# Construct a validation set from the last 10000 images and labels from\n",
    "# train_and_validation_images and train_and_validation_labels\n",
    "validation_images = train_and_validation_images[-10000:, :, :]\n",
    "validation_labels = train_and_validation_labels[-10000:] # Assign the corresponding labels\n",
    "\n",
    "# Construct a training set from the first 50000 images and labels.\n",
    "train_images = train_and_validation_images[:50000, :, :]\n",
    "train_labels = train_and_validation_labels[:50000] # Assign the corresponding labels"
   ]
  },
  {
   "cell_type": "code",
   "execution_count": null,
   "id": "f7621f84-30b9-430d-b00b-d00f055a68b9",
   "metadata": {
    "id": "f7621f84-30b9-430d-b00b-d00f055a68b9"
   },
   "outputs": [],
   "source": [
    "text_labels = ['T-shirt/top', 'Trouser', 'Pullover', 'Dress', 'Coat', 'Sandal', 'Shirt', 'Sneaker', 'Bag', 'Ankle boot']"
   ]
  },
  {
   "cell_type": "code",
   "execution_count": null,
   "id": "cdfb38cb-dda2-4e01-9c04-0f2c7d6a5f9e",
   "metadata": {
    "colab": {
     "base_uri": "https://localhost:8080/",
     "height": 452
    },
    "id": "cdfb38cb-dda2-4e01-9c04-0f2c7d6a5f9e",
    "outputId": "5b266364-bb41-45ae-9fd4-a3669f6c13bb"
   },
   "outputs": [],
   "source": [
    "plt.figure()\n",
    "random_index = np.random.randint(0, len(train_images))\n",
    "plt.imshow(train_images[random_index], cmap='gray')\n",
    "plt.colorbar()\n",
    "numerical_label = train_labels[random_index]\n",
    "text_description = text_labels[numerical_label]\n",
    "plt.title('True Class: {} (\"{}\")'.format(numerical_label, text_description))\n",
    "\n",
    "plt.gca().grid(False)"
   ]
  },
  {
   "cell_type": "code",
   "execution_count": null,
   "id": "abaf65fb-4737-4dea-b21c-5568b5929979",
   "metadata": {
    "colab": {
     "base_uri": "https://localhost:8080/",
     "height": 1000
    },
    "id": "abaf65fb-4737-4dea-b21c-5568b5929979",
    "outputId": "d498fb4f-032b-44d2-8e85-d93b307d9980"
   },
   "outputs": [],
   "source": [
    "# Another view, showing 50 randomly selected images at a time\n",
    "plt.figure(figsize=(20,20))\n",
    "for i in range(50):\n",
    "    plt.subplot(5,10,i+1)\n",
    "    plt.xticks([])\n",
    "    plt.yticks([])\n",
    "    plt.grid('off')\n",
    "\n",
    "    img_index = np.random.randint(0, 50000)\n",
    "    plt.imshow(train_images[img_index], cmap=plt.cm.gray)\n",
    "    plt.xlabel(text_labels[train_labels[img_index]])"
   ]
  },
  {
   "cell_type": "markdown",
   "id": "kiJiq8LKmqmQ",
   "metadata": {
    "id": "kiJiq8LKmqmQ"
   },
   "source": [
    "#### Preprocess"
   ]
  },
  {
   "cell_type": "code",
   "execution_count": null,
   "id": "8396ffd2-0fbd-4c50-adce-bdea794b0035",
   "metadata": {
    "id": "8396ffd2-0fbd-4c50-adce-bdea794b0035"
   },
   "outputs": [],
   "source": [
    "# Flatten the images\n",
    "train_images_flatten = train_images.reshape(train_images.shape[0], 28 * 28)\n",
    "validation_images_flatten = validation_images.reshape(validation_images.shape[0], 28 * 28)\n",
    "test_images_flatten = test_images.reshape(test_images.shape[0], 28 * 28)"
   ]
  },
  {
   "cell_type": "code",
   "execution_count": null,
   "id": "751fa388-bc8d-41f6-8da5-48a6bbca104b",
   "metadata": {
    "id": "751fa388-bc8d-41f6-8da5-48a6bbca104b"
   },
   "outputs": [],
   "source": [
    "# Normalize the images\n",
    "train_images_model = train_images_flatten / 255.0\n",
    "validation_images_model = validation_images_flatten / 255.0\n",
    "test_images_model = test_images_flatten / 255.0"
   ]
  },
  {
   "cell_type": "code",
   "execution_count": null,
   "id": "7a056320-4046-4778-8bf5-0b5637ad7ab2",
   "metadata": {
    "id": "7a056320-4046-4778-8bf5-0b5637ad7ab2"
   },
   "outputs": [],
   "source": [
    "# convert class vectors to binary class matrices\n",
    "train_labels_categ = keras.utils.to_categorical(train_labels, 10)\n",
    "validation_labels_categ = keras.utils.to_categorical(validation_labels, 10)\n",
    "test_labels_categ = keras.utils.to_categorical(test_labels, 10)"
   ]
  },
  {
   "cell_type": "markdown",
   "id": "rzm2mF7Bm7vB",
   "metadata": {
    "id": "rzm2mF7Bm7vB"
   },
   "source": [
    "#### Train"
   ]
  },
  {
   "cell_type": "code",
   "execution_count": null,
   "id": "d2190de8-00ad-49b5-8294-4772d59314e5",
   "metadata": {
    "colab": {
     "base_uri": "https://localhost:8080/"
    },
    "id": "d2190de8-00ad-49b5-8294-4772d59314e5",
    "outputId": "3dc6f4a7-b517-410a-ba2d-ae564ba24fad"
   },
   "outputs": [],
   "source": [
    "batch_size = 128\n",
    "num_classes = 10\n",
    "epochs = 40\n",
    "\n",
    "# Create a sequential model here\n",
    "model = keras.Sequential()\n",
    "\n",
    "model.add(Dense(256, input_dim = 784, activation = 'relu'))\n",
    "model.add(Dropout(0.2))\n",
    "model.add(Dense(128, activation = 'relu'))\n",
    "model.add(Dense(10, activation='softmax'))\n",
    "\n",
    "# End Code"
   ]
  },
  {
   "cell_type": "code",
   "execution_count": null,
   "id": "8dy8o16ertEz",
   "metadata": {
    "colab": {
     "base_uri": "https://localhost:8080/"
    },
    "id": "8dy8o16ertEz",
    "outputId": "6012ded9-9f26-49bb-ac87-0ae9df408d43"
   },
   "outputs": [],
   "source": [
    "print(train_images_model.shape)\n",
    "print(train_labels_categ.shape)"
   ]
  },
  {
   "cell_type": "code",
   "execution_count": null,
   "id": "6ac00441-8fda-4327-8f4c-95d467e21638",
   "metadata": {
    "colab": {
     "base_uri": "https://localhost:8080/"
    },
    "id": "6ac00441-8fda-4327-8f4c-95d467e21638",
    "outputId": "19056849-ccf9-497c-8e58-dc384660c762"
   },
   "outputs": [],
   "source": [
    "model.compile(loss='categorical_crossentropy',\n",
    "              optimizer=RMSprop(),\n",
    "              metrics=['accuracy'])\n",
    "\n",
    "history = model.fit(train_images_model, train_labels_categ,\n",
    "                    batch_size=batch_size,\n",
    "                    epochs=epochs,\n",
    "                    verbose=1,\n",
    "                    validation_data=(validation_images_model, validation_labels_categ))"
   ]
  },
  {
   "cell_type": "markdown",
   "id": "_PgkUOAGuSr7",
   "metadata": {
    "id": "_PgkUOAGuSr7"
   },
   "source": [
    "#### Test"
   ]
  },
  {
   "cell_type": "code",
   "execution_count": null,
   "id": "01254baf-4dd1-49b0-ab72-e081a9ae6957",
   "metadata": {
    "colab": {
     "base_uri": "https://localhost:8080/"
    },
    "id": "01254baf-4dd1-49b0-ab72-e081a9ae6957",
    "outputId": "8fbebccc-c564-4c2a-92a7-e03716ce799c"
   },
   "outputs": [],
   "source": [
    "score = model.evaluate(test_images_model, test_labels_categ, verbose=0)\n",
    "print('Test accuracy:', score[1])\n",
    "# You should be able to get,at least, 88% accuracy"
   ]
  },
  {
   "cell_type": "code",
   "execution_count": null,
   "id": "ed23b0e5-5167-4027-b6fd-91882a61e368",
   "metadata": {
    "colab": {
     "base_uri": "https://localhost:8080/"
    },
    "id": "ed23b0e5-5167-4027-b6fd-91882a61e368",
    "outputId": "b90d5f53-1d9d-4538-f634-6feadf0ba025"
   },
   "outputs": [],
   "source": [
    "test_logits = model.predict(test_images_flatten)"
   ]
  },
  {
   "cell_type": "code",
   "execution_count": null,
   "id": "e02ac822-8b56-4ded-9a68-374668c93179",
   "metadata": {
    "colab": {
     "base_uri": "https://localhost:8080/"
    },
    "id": "e02ac822-8b56-4ded-9a68-374668c93179",
    "outputId": "d59d721d-8f95-47cf-a34f-f12794e43e56"
   },
   "outputs": [],
   "source": [
    "test_logits"
   ]
  },
  {
   "cell_type": "code",
   "execution_count": null,
   "id": "1641bd9f-4162-4644-92f1-9baa8cc8d6df",
   "metadata": {
    "id": "1641bd9f-4162-4644-92f1-9baa8cc8d6df"
   },
   "outputs": [],
   "source": [
    "test_predictions = np.argmax(test_logits, axis=1)"
   ]
  },
  {
   "cell_type": "code",
   "execution_count": null,
   "id": "eb0891e3-7dcd-4aae-bb57-eb3722dc1815",
   "metadata": {
    "colab": {
     "base_uri": "https://localhost:8080/"
    },
    "id": "eb0891e3-7dcd-4aae-bb57-eb3722dc1815",
    "outputId": "409738d4-2f64-4a02-9425-e755fd79edb0"
   },
   "outputs": [],
   "source": [
    "test_predictions"
   ]
  },
  {
   "cell_type": "code",
   "execution_count": null,
   "id": "WsOvzc_Ru4Iz",
   "metadata": {
    "colab": {
     "base_uri": "https://localhost:8080/",
     "height": 1000
    },
    "id": "WsOvzc_Ru4Iz",
    "outputId": "668019c2-9f0b-4d82-83bc-d2680ec76928"
   },
   "outputs": [],
   "source": [
    "plt.figure(figsize=(10,10))\n",
    "for i in range(25):\n",
    "    plt.subplot(5,5,i+1)\n",
    "    plt.xticks([])\n",
    "    plt.yticks([])\n",
    "    plt.grid('off')\n",
    "\n",
    "    img_index = np.random.randint(0, 10000)\n",
    "    plt.imshow(test_images[img_index], cmap=plt.cm.gray)\n",
    "\n",
    "    actual_label = test_labels[img_index]\n",
    "    predicted_label = test_predictions[img_index]\n",
    "\n",
    "    plt.xlabel(\"Actual: {} ({})\\n Predicted: {} ({})\".format(\n",
    "        actual_label, text_labels[actual_label], predicted_label, text_labels[predicted_label]\n",
    "    ))\n",
    "\n",
    "plt.tight_layout()\n",
    "plt.show()"
   ]
  },
  {
   "cell_type": "code",
   "execution_count": null,
   "id": "dedp1QPbu323",
   "metadata": {
    "id": "dedp1QPbu323"
   },
   "outputs": [],
   "source": []
  },
  {
   "cell_type": "code",
   "execution_count": null,
   "id": "v0B2F-Zyu3wz",
   "metadata": {
    "id": "v0B2F-Zyu3wz"
   },
   "outputs": [],
   "source": []
  },
  {
   "cell_type": "code",
   "execution_count": null,
   "id": "ybeMT_ILu3tO",
   "metadata": {
    "id": "ybeMT_ILu3tO"
   },
   "outputs": [],
   "source": []
  }
 ],
 "metadata": {
  "colab": {
   "provenance": []
  },
  "kernelspec": {
   "display_name": "Python 3 (ipykernel)",
   "language": "python",
   "name": "python3"
  },
  "language_info": {
   "codemirror_mode": {
    "name": "ipython",
    "version": 3
   },
   "file_extension": ".py",
   "mimetype": "text/x-python",
   "name": "python",
   "nbconvert_exporter": "python",
   "pygments_lexer": "ipython3",
   "version": "3.10.9"
  }
 },
 "nbformat": 4,
 "nbformat_minor": 5
}
